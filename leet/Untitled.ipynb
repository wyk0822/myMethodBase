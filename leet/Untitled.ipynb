{
 "cells": [
  {
   "cell_type": "code",
   "execution_count": 2,
   "metadata": {},
   "outputs": [
    {
     "data": {
      "text/plain": [
       "False"
      ]
     },
     "execution_count": 2,
     "metadata": {},
     "output_type": "execute_result"
    }
   ],
   "source": [
    "True if len([]) > 0 else False"
   ]
  },
  {
   "cell_type": "code",
   "execution_count": 1,
   "metadata": {},
   "outputs": [],
   "source": [
    "from faker import Faker"
   ]
  },
  {
   "cell_type": "code",
   "execution_count": 28,
   "metadata": {},
   "outputs": [
    {
     "data": {
      "text/plain": [
       "'刘桂芝'"
      ]
     },
     "execution_count": 28,
     "metadata": {},
     "output_type": "execute_result"
    }
   ],
   "source": [
    "f = Faker(\"zh_CN\")\n",
    "f.name()"
   ]
  },
  {
   "cell_type": "code",
   "execution_count": 37,
   "metadata": {},
   "outputs": [
    {
     "name": "stdout",
     "output_type": "stream",
     "text": [
      "[2]\n"
     ]
    }
   ],
   "source": [
    "-3//2\n",
    "l = [1,2]\n",
    "del l[0]\n",
    "print(l)"
   ]
  },
  {
   "cell_type": "code",
   "execution_count": 61,
   "metadata": {},
   "outputs": [
    {
     "data": {
      "text/plain": [
       "[9, 8, 7, 6, 5, 4, 3, 2, 1, 0]"
      ]
     },
     "execution_count": 61,
     "metadata": {},
     "output_type": "execute_result"
    }
   ],
   "source": [
    "[*range(10)][::-1]"
   ]
  },
  {
   "cell_type": "code",
   "execution_count": 1,
   "metadata": {},
   "outputs": [
    {
     "name": "stdout",
     "output_type": "stream",
     "text": [
      "[90]\n",
      "[11]\n",
      "[11, 7]\n",
      "[11, 7, -6]\n",
      "[11, 7, -30]\n",
      "[11, 7, -7]\n",
      "[11, 7, -7, 3]\n",
      "[11, 7, -7, 3, -2]\n",
      "[11, 7, -7, 3, -2]\n"
     ]
    },
    {
     "data": {
      "text/plain": "12"
     },
     "execution_count": 1,
     "metadata": {},
     "output_type": "execute_result"
    }
   ],
   "source": [
    "# * / + -\n",
    "def clumsy(N):\n",
    "    op = 0\n",
    "    stack = [N]\n",
    "    for i in range(N - 1, 0, -1):\n",
    "\n",
    "        if op == 0:\n",
    "            stack.append(stack.pop() * i)\n",
    "        elif op == 1:\n",
    "            stack.append(int(stack.pop() / float(i)))\n",
    "#             stack.append(int(stack.pop() // i))\n",
    "        elif op == 2:\n",
    "            stack.append(i)\n",
    "        elif op == 3:\n",
    "            stack.append(-i)\n",
    "        op = (op + 1) % 4\n",
    "        print(stack)\n",
    "    return sum(stack)\n",
    "clumsy(10)"
   ]
  },
  {
   "cell_type": "code",
   "execution_count": 43,
   "metadata": {},
   "outputs": [
    {
     "data": {
      "text/plain": [
       "3"
      ]
     },
     "execution_count": 43,
     "metadata": {},
     "output_type": "execute_result"
    }
   ],
   "source": [
    "[90]\n",
    "[11]\n",
    "[11, 7]\n",
    "[11, 7, -6]\n",
    "[11, 7, -30]\n",
    "[11, 7, -8]\n",
    "[11, 7, -8, 3]\n",
    "[11, 7, -8, 3, -2]\n",
    "[11, 7, -8, 3, -2]"
   ]
  },
  {
   "cell_type": "code",
   "execution_count": 3,
   "outputs": [
    {
     "name": "stdout",
     "output_type": "stream",
     "text": [
      "3\n"
     ]
    }
   ],
   "source": [
    "\n",
    "def removeElement(nums, val: int) -> int:\n",
    "    index = 0\n",
    "    afterlst = []\n",
    "    for _ in range(len(nums)):\n",
    "        if  nums[0] == val:\n",
    "            pass\n",
    "        else:\n",
    "            afterlst.append(nums[0])\n",
    "        del nums[0]\n",
    "        index+=1\n",
    "    return len(afterlst)\n",
    "\n",
    "\n",
    "def removeElement2(nums, val: int) -> int:\n",
    "    if len(nums) == 0:\n",
    "        return 0\n",
    "    slow = 0\n",
    "    for quick in range(0, len(nums)):\n",
    "        if nums[quick] != val:\n",
    "            nums[slow] = nums[quick]\n",
    "            slow += 1\n",
    "    return slow\n",
    "print(removeElement2([1,2,3,2,1],2))"
   ],
   "metadata": {
    "collapsed": false,
    "pycharm": {
     "name": "#%%\n"
    }
   }
  },
  {
   "cell_type": "code",
   "execution_count": 8,
   "outputs": [
    {
     "name": "stdout",
     "output_type": "stream",
     "text": [
      "1809815186888 1809815165040\n"
     ]
    }
   ],
   "source": [
    "a = {1:[1,2,3]}\n",
    "c = a   # 直接赋值\n",
    "b = a.copy()  # 浅拷贝\n",
    "print(id(a), id(b))"
   ],
   "metadata": {
    "collapsed": false,
    "pycharm": {
     "name": "#%%\n"
    }
   }
  },
  {
   "cell_type": "code",
   "execution_count": 10,
   "outputs": [
    {
     "name": "stdout",
     "output_type": "stream",
     "text": [
      "1809814322120 1809814322120\n",
      "1809814322120 1809814321800\n"
     ]
    }
   ],
   "source": [
    "print(id(a[1]), id(b[1]))\n",
    "import copy\n",
    "d = copy.deepcopy(a) # 深拷贝\n",
    "print(id(a[1]), id(d[1]))"
   ],
   "metadata": {
    "collapsed": false,
    "pycharm": {
     "name": "#%%\n"
    }
   }
  },
  {
   "cell_type": "code",
   "execution_count": 13,
   "outputs": [
    {
     "name": "stdout",
     "output_type": "stream",
     "text": [
      "this is fun1\n",
      "11\n"
     ]
    }
   ],
   "source": [
    "# 闭包\n",
    "def fun():\n",
    "    a = 1\n",
    "    def fun1(num):\n",
    "        print(\"this is fun1\")\n",
    "        print(num + a)\n",
    "    return fun1\n",
    "\n",
    "var = fun()\n",
    "var(10)"
   ],
   "metadata": {
    "collapsed": false,
    "pycharm": {
     "name": "#%%\n"
    }
   }
  },
  {
   "cell_type": "code",
   "execution_count": 18,
   "outputs": [
    {
     "name": "stdout",
     "output_type": "stream",
     "text": [
      "装饰器函数\n",
      "被装饰函数。。\n"
     ]
    },
    {
     "ename": "ResponseError",
     "evalue": "DENIED Redis is running in protected mode because protected mode is enabled, no bind address was specified, no authentication password is requested to clients. In this mode connections are only accepted from the loopback interface. If you want to connect from external computers to Redis you may adopt one of the following solutions: 1) Just disable protected mode sending the command 'CONFIG SET protected-mode no' from the loopback interface by connecting to Redis from the same host the server is running, however MAKE SURE Redis is not publicly accessible from internet if you do so. Use CONFIG REWRITE to make this change permanent. 2) Alternatively you can just disable the protected mode by editing the Redis configuration file, and setting the protected mode option to 'no', and then restarting the server. 3) If you started the server manually just for testing, restart it with the '--protected-mode no' option. 4) Setup a bind address or an authentication password. NOTE: You only need to do one of the above things in order for the server to start accepting connections from the outside.",
     "output_type": "error",
     "traceback": [
      "\u001B[1;31m---------------------------------------------------------------------------\u001B[0m",
      "\u001B[1;31mResponseError\u001B[0m                             Traceback (most recent call last)",
      "\u001B[1;32m<ipython-input-18-c1fd49cfb9da>\u001B[0m in \u001B[0;36m<module>\u001B[1;34m()\u001B[0m\n\u001B[0;32m     14\u001B[0m \u001B[0mpool\u001B[0m \u001B[1;33m=\u001B[0m \u001B[0mredis\u001B[0m\u001B[1;33m.\u001B[0m\u001B[0mConnectionPool\u001B[0m\u001B[1;33m(\u001B[0m\u001B[0mhost\u001B[0m\u001B[1;33m=\u001B[0m\u001B[1;34m'192.168.109.128'\u001B[0m\u001B[1;33m,\u001B[0m \u001B[0mport\u001B[0m\u001B[1;33m=\u001B[0m\u001B[1;36m6379\u001B[0m\u001B[1;33m,\u001B[0m \u001B[0mdecode_responses\u001B[0m\u001B[1;33m=\u001B[0m\u001B[1;32mTrue\u001B[0m\u001B[1;33m)\u001B[0m\u001B[1;33m\u001B[0m\u001B[0m\n\u001B[0;32m     15\u001B[0m \u001B[0mr\u001B[0m \u001B[1;33m=\u001B[0m \u001B[0mredis\u001B[0m\u001B[1;33m.\u001B[0m\u001B[0mRedis\u001B[0m\u001B[1;33m(\u001B[0m\u001B[0mconnection_pool\u001B[0m\u001B[1;33m=\u001B[0m\u001B[0mpool\u001B[0m\u001B[1;33m)\u001B[0m\u001B[1;33m\u001B[0m\u001B[0m\n\u001B[1;32m---> 16\u001B[1;33m \u001B[0mr\u001B[0m\u001B[1;33m.\u001B[0m\u001B[0mset\u001B[0m\u001B[1;33m(\u001B[0m\u001B[1;34m\"a\"\u001B[0m\u001B[1;33m,\u001B[0m\u001B[1;34m\"11110\"\u001B[0m\u001B[1;33m,\u001B[0m \u001B[0mex\u001B[0m\u001B[1;33m=\u001B[0m\u001B[1;36m100\u001B[0m\u001B[1;33m)\u001B[0m\u001B[1;33m\u001B[0m\u001B[0m\n\u001B[0m\u001B[0;32m     17\u001B[0m \u001B[0mprint\u001B[0m\u001B[1;33m(\u001B[0m\u001B[0mr\u001B[0m\u001B[1;33m.\u001B[0m\u001B[0mget\u001B[0m\u001B[1;33m(\u001B[0m\u001B[1;34m\"a\"\u001B[0m\u001B[1;33m)\u001B[0m\u001B[1;33m)\u001B[0m\u001B[1;33m\u001B[0m\u001B[0m\n",
      "\u001B[1;32mE:\\anaconda\\lib\\site-packages\\redis\\client.py\u001B[0m in \u001B[0;36mset\u001B[1;34m(self, name, value, ex, px, nx, xx, keepttl)\u001B[0m\n\u001B[0;32m   1799\u001B[0m             \u001B[0mpieces\u001B[0m\u001B[1;33m.\u001B[0m\u001B[0mappend\u001B[0m\u001B[1;33m(\u001B[0m\u001B[1;34m'KEEPTTL'\u001B[0m\u001B[1;33m)\u001B[0m\u001B[1;33m\u001B[0m\u001B[0m\n\u001B[0;32m   1800\u001B[0m \u001B[1;33m\u001B[0m\u001B[0m\n\u001B[1;32m-> 1801\u001B[1;33m         \u001B[1;32mreturn\u001B[0m \u001B[0mself\u001B[0m\u001B[1;33m.\u001B[0m\u001B[0mexecute_command\u001B[0m\u001B[1;33m(\u001B[0m\u001B[1;34m'SET'\u001B[0m\u001B[1;33m,\u001B[0m \u001B[1;33m*\u001B[0m\u001B[0mpieces\u001B[0m\u001B[1;33m)\u001B[0m\u001B[1;33m\u001B[0m\u001B[0m\n\u001B[0m\u001B[0;32m   1802\u001B[0m \u001B[1;33m\u001B[0m\u001B[0m\n\u001B[0;32m   1803\u001B[0m     \u001B[1;32mdef\u001B[0m \u001B[0m__setitem__\u001B[0m\u001B[1;33m(\u001B[0m\u001B[0mself\u001B[0m\u001B[1;33m,\u001B[0m \u001B[0mname\u001B[0m\u001B[1;33m,\u001B[0m \u001B[0mvalue\u001B[0m\u001B[1;33m)\u001B[0m\u001B[1;33m:\u001B[0m\u001B[1;33m\u001B[0m\u001B[0m\n",
      "\u001B[1;32mE:\\anaconda\\lib\\site-packages\\redis\\client.py\u001B[0m in \u001B[0;36mexecute_command\u001B[1;34m(self, *args, **options)\u001B[0m\n\u001B[0;32m    899\u001B[0m         \u001B[1;32mtry\u001B[0m\u001B[1;33m:\u001B[0m\u001B[1;33m\u001B[0m\u001B[0m\n\u001B[0;32m    900\u001B[0m             \u001B[0mconn\u001B[0m\u001B[1;33m.\u001B[0m\u001B[0msend_command\u001B[0m\u001B[1;33m(\u001B[0m\u001B[1;33m*\u001B[0m\u001B[0margs\u001B[0m\u001B[1;33m)\u001B[0m\u001B[1;33m\u001B[0m\u001B[0m\n\u001B[1;32m--> 901\u001B[1;33m             \u001B[1;32mreturn\u001B[0m \u001B[0mself\u001B[0m\u001B[1;33m.\u001B[0m\u001B[0mparse_response\u001B[0m\u001B[1;33m(\u001B[0m\u001B[0mconn\u001B[0m\u001B[1;33m,\u001B[0m \u001B[0mcommand_name\u001B[0m\u001B[1;33m,\u001B[0m \u001B[1;33m**\u001B[0m\u001B[0moptions\u001B[0m\u001B[1;33m)\u001B[0m\u001B[1;33m\u001B[0m\u001B[0m\n\u001B[0m\u001B[0;32m    902\u001B[0m         \u001B[1;32mexcept\u001B[0m \u001B[1;33m(\u001B[0m\u001B[0mConnectionError\u001B[0m\u001B[1;33m,\u001B[0m \u001B[0mTimeoutError\u001B[0m\u001B[1;33m)\u001B[0m \u001B[1;32mas\u001B[0m \u001B[0me\u001B[0m\u001B[1;33m:\u001B[0m\u001B[1;33m\u001B[0m\u001B[0m\n\u001B[0;32m    903\u001B[0m             \u001B[0mconn\u001B[0m\u001B[1;33m.\u001B[0m\u001B[0mdisconnect\u001B[0m\u001B[1;33m(\u001B[0m\u001B[1;33m)\u001B[0m\u001B[1;33m\u001B[0m\u001B[0m\n",
      "\u001B[1;32mE:\\anaconda\\lib\\site-packages\\redis\\client.py\u001B[0m in \u001B[0;36mparse_response\u001B[1;34m(self, connection, command_name, **options)\u001B[0m\n\u001B[0;32m    913\u001B[0m         \u001B[1;34m\"Parses a response from the Redis server\"\u001B[0m\u001B[1;33m\u001B[0m\u001B[0m\n\u001B[0;32m    914\u001B[0m         \u001B[1;32mtry\u001B[0m\u001B[1;33m:\u001B[0m\u001B[1;33m\u001B[0m\u001B[0m\n\u001B[1;32m--> 915\u001B[1;33m             \u001B[0mresponse\u001B[0m \u001B[1;33m=\u001B[0m \u001B[0mconnection\u001B[0m\u001B[1;33m.\u001B[0m\u001B[0mread_response\u001B[0m\u001B[1;33m(\u001B[0m\u001B[1;33m)\u001B[0m\u001B[1;33m\u001B[0m\u001B[0m\n\u001B[0m\u001B[0;32m    916\u001B[0m         \u001B[1;32mexcept\u001B[0m \u001B[0mResponseError\u001B[0m\u001B[1;33m:\u001B[0m\u001B[1;33m\u001B[0m\u001B[0m\n\u001B[0;32m    917\u001B[0m             \u001B[1;32mif\u001B[0m \u001B[0mEMPTY_RESPONSE\u001B[0m \u001B[1;32min\u001B[0m \u001B[0moptions\u001B[0m\u001B[1;33m:\u001B[0m\u001B[1;33m\u001B[0m\u001B[0m\n",
      "\u001B[1;32mE:\\anaconda\\lib\\site-packages\\redis\\connection.py\u001B[0m in \u001B[0;36mread_response\u001B[1;34m(self)\u001B[0m\n\u001B[0;32m    754\u001B[0m \u001B[1;33m\u001B[0m\u001B[0m\n\u001B[0;32m    755\u001B[0m         \u001B[1;32mif\u001B[0m \u001B[0misinstance\u001B[0m\u001B[1;33m(\u001B[0m\u001B[0mresponse\u001B[0m\u001B[1;33m,\u001B[0m \u001B[0mResponseError\u001B[0m\u001B[1;33m)\u001B[0m\u001B[1;33m:\u001B[0m\u001B[1;33m\u001B[0m\u001B[0m\n\u001B[1;32m--> 756\u001B[1;33m             \u001B[1;32mraise\u001B[0m \u001B[0mresponse\u001B[0m\u001B[1;33m\u001B[0m\u001B[0m\n\u001B[0m\u001B[0;32m    757\u001B[0m         \u001B[1;32mreturn\u001B[0m \u001B[0mresponse\u001B[0m\u001B[1;33m\u001B[0m\u001B[0m\n\u001B[0;32m    758\u001B[0m \u001B[1;33m\u001B[0m\u001B[0m\n",
      "\u001B[1;31mResponseError\u001B[0m: DENIED Redis is running in protected mode because protected mode is enabled, no bind address was specified, no authentication password is requested to clients. In this mode connections are only accepted from the loopback interface. If you want to connect from external computers to Redis you may adopt one of the following solutions: 1) Just disable protected mode sending the command 'CONFIG SET protected-mode no' from the loopback interface by connecting to Redis from the same host the server is running, however MAKE SURE Redis is not publicly accessible from internet if you do so. Use CONFIG REWRITE to make this change permanent. 2) Alternatively you can just disable the protected mode by editing the Redis configuration file, and setting the protected mode option to 'no', and then restarting the server. 3) If you started the server manually just for testing, restart it with the '--protected-mode no' option. 4) Setup a bind address or an authentication password. NOTE: You only need to do one of the above things in order for the server to start accepting connections from the outside."
     ]
    }
   ],
   "source": [
    "def func1(func):     # func外部被装饰函数\n",
    "    def func2():\n",
    "        print(\"装饰器函数\")\n",
    "        return func()\n",
    "    return func2\n",
    "\n",
    "@func1\n",
    "def test():\n",
    "    print(\"被装饰函数。。\")\n",
    "\n",
    "test()\n",
    "\n",
    "import redis\n",
    "pool = redis.ConnectionPool(host='192.168.109.128', port=6379, decode_responses=True)\n",
    "r = redis.Redis(connection_pool=pool)\n",
    "r.set(\"a\",\"11110\", ex=100)\n",
    "print(r.get(\"a\"))"
   ],
   "metadata": {
    "collapsed": false,
    "pycharm": {
     "name": "#%%\n"
    }
   }
  },
  {
   "cell_type": "code",
   "execution_count": 22,
   "outputs": [
    {
     "name": "stdout",
     "output_type": "stream",
     "text": [
      "[9, 7, 6, 6, 5, 4, 4, 3, 3, 2, 2]\n"
     ]
    }
   ],
   "source": [
    "lst = [9,2,3,4,2,3,5,6,7,4,6]\n",
    "print(sorted(lst)[::-1])\n"
   ],
   "metadata": {
    "collapsed": false,
    "pycharm": {
     "name": "#%%\n"
    }
   }
  },
  {
   "cell_type": "code",
   "execution_count": 24,
   "outputs": [
    {
     "name": "stdout",
     "output_type": "stream",
     "text": [
      "5050\n"
     ]
    }
   ],
   "source": [
    "print(sum([*range(1,101)]))"
   ],
   "metadata": {
    "collapsed": false,
    "pycharm": {
     "name": "#%%\n"
    }
   }
  },
  {
   "cell_type": "code",
   "execution_count": 8,
   "outputs": [
    {
     "name": "stdout",
     "output_type": "stream",
     "text": [
      "0 1 2 3 4 5 6 7 8 9\n",
      "2\n"
     ]
    }
   ],
   "source": [
    "print(*range(0,10))\n",
    "global s\n",
    "s=1\n",
    "def ss():\n",
    "    global s\n",
    "    s+=1\n",
    "ss()\n",
    "print(s)"
   ],
   "metadata": {
    "collapsed": false,
    "pycharm": {
     "name": "#%%\n"
    }
   }
  },
  {
   "cell_type": "code",
   "execution_count": 35,
   "outputs": [
    {
     "name": "stdout",
     "output_type": "stream",
     "text": [
      "a\n",
      "(1, 1, 2)\n",
      "{'x1': ('1', '2'), 'x': {'3': '333'}}\n"
     ]
    }
   ],
   "source": [
    "def ss(a, *r, **x):\n",
    "    print(a)\n",
    "    print(r)\n",
    "    print(x)\n",
    "\n",
    "ss(\"a\",1,1,2,x1 = (\"1\",\"2\", ), x = {\"3\":\"333\"})"
   ],
   "metadata": {
    "collapsed": false,
    "pycharm": {
     "name": "#%%\n"
    }
   }
  },
  {
   "cell_type": "code",
   "execution_count": 16,
   "outputs": [
    {
     "name": "stdout",
     "output_type": "stream",
     "text": [
      "[865, 33, 23, 11, 4, 4, 3, 2]\n"
     ]
    }
   ],
   "source": [
    "data = [2,3,4,23,11,33,4,865]\n",
    "for i in range(len(data)-1):\n",
    "    for j in range(len(data)-1-i):\n",
    "        if data[j]<data[j+1]:\n",
    "            data[j], data[j+1] = data[j+1], data[j]\n",
    "print(data)"
   ],
   "metadata": {
    "collapsed": false,
    "pycharm": {
     "name": "#%%\n"
    }
   }
  },
  {
   "cell_type": "code",
   "execution_count": 8,
   "outputs": [
    {
     "name": "stdout",
     "output_type": "stream",
     "text": [
      "181\n"
     ]
    }
   ],
   "source": [
    "str_ = \"qase123iub56a2\"\n",
    "num = ''\n",
    "numlst = []\n",
    "for _ in str_:\n",
    "    if _ in [str(x) for x in range(0, 10)]:\n",
    "        num+=_\n",
    "    else:\n",
    "        if num!=\"\":\n",
    "            numlst.append(num)\n",
    "            num = ''\n",
    "\n",
    "if num!=\"\":\n",
    "    numlst.append(num)\n",
    "x = 0\n",
    "for _ in numlst:\n",
    "    x+=int(_)\n",
    "print(x)\n"
   ],
   "metadata": {
    "collapsed": false,
    "pycharm": {
     "name": "#%%\n"
    }
   }
  },
  {
   "cell_type": "code",
   "execution_count": 13,
   "outputs": [],
   "source": [
    "1^0\n",
    "2^1\n"
   ],
   "metadata": {
    "collapsed": false,
    "pycharm": {
     "name": "#%%\n"
    }
   }
  },
  {
   "cell_type": "code",
   "execution_count": 1,
   "outputs": [
    {
     "name": "stdout",
     "output_type": "stream",
     "text": [
      "['Untitled.ipynb']\n",
      "['Untitled-checkpoint.ipynb']\n"
     ]
    },
    {
     "name": "stderr",
     "output_type": "stream",
     "text": [
      "E:\\anaconda\\lib\\site-packages\\ipykernel\\parentpoller.py:116: UserWarning: Parent poll failed.  If the frontend dies,\n",
      "                the kernel may be left running.  Please let us know\n",
      "                about your system (bitness, Python, etc.) at\n",
      "                ipython-dev@scipy.org\n",
      "  ipython-dev@scipy.org\"\"\")\n"
     ]
    }
   ],
   "source": [
    "import os\n",
    "def file_name(file_dir):\n",
    "    for root, dirs, files in os.walk(file_dir):\n",
    "        # print(root)  # 当前目录路径\n",
    "        # print(dirs)  # 当前路径下所有子目录\n",
    "        print(files)  # 当前路径下所有非目录子文件\n",
    "file_name(\"./\")"
   ],
   "metadata": {
    "collapsed": false,
    "pycharm": {
     "name": "#%%\n"
    }
   }
  },
  {
   "cell_type": "code",
   "execution_count": 4,
   "outputs": [
    {
     "name": "stderr",
     "output_type": "stream",
     "text": [
      "E:\\anaconda\\lib\\codeop.py:133: RuntimeWarning: coroutine 'func' was never awaited\n",
      "  codeob = compile(source, filename, symbol, self.flags, 1)\n"
     ]
    },
    {
     "ename": "RuntimeError",
     "evalue": "asyncio.run() cannot be called from a running event loop",
     "output_type": "error",
     "traceback": [
      "\u001B[1;31m---------------------------------------------------------------------------\u001B[0m",
      "\u001B[1;31mRuntimeError\u001B[0m                              Traceback (most recent call last)",
      "\u001B[1;32m<ipython-input-4-4f1116830854>\u001B[0m in \u001B[0;36m<module>\u001B[1;34m()\u001B[0m\n\u001B[0;32m     15\u001B[0m \u001B[1;33m\u001B[0m\u001B[0m\n\u001B[0;32m     16\u001B[0m \u001B[1;31m# for i in range(3):\u001B[0m\u001B[1;33m\u001B[0m\u001B[1;33m\u001B[0m\u001B[0m\n\u001B[1;32m---> 17\u001B[1;33m \u001B[0masyncio\u001B[0m\u001B[1;33m.\u001B[0m\u001B[0mrun\u001B[0m\u001B[1;33m(\u001B[0m \u001B[0mfunc\u001B[0m\u001B[1;33m(\u001B[0m\u001B[1;34m\"22\"\u001B[0m\u001B[1;33m)\u001B[0m \u001B[1;33m)\u001B[0m\u001B[1;33m\u001B[0m\u001B[0m\n\u001B[0m",
      "\u001B[1;32mE:\\anaconda\\lib\\asyncio\\runners.py\u001B[0m in \u001B[0;36mrun\u001B[1;34m(main, debug)\u001B[0m\n\u001B[0;32m     32\u001B[0m     \u001B[1;32mif\u001B[0m \u001B[0mevents\u001B[0m\u001B[1;33m.\u001B[0m\u001B[0m_get_running_loop\u001B[0m\u001B[1;33m(\u001B[0m\u001B[1;33m)\u001B[0m \u001B[1;32mis\u001B[0m \u001B[1;32mnot\u001B[0m \u001B[1;32mNone\u001B[0m\u001B[1;33m:\u001B[0m\u001B[1;33m\u001B[0m\u001B[0m\n\u001B[0;32m     33\u001B[0m         raise RuntimeError(\n\u001B[1;32m---> 34\u001B[1;33m             \"asyncio.run() cannot be called from a running event loop\")\n\u001B[0m\u001B[0;32m     35\u001B[0m \u001B[1;33m\u001B[0m\u001B[0m\n\u001B[0;32m     36\u001B[0m     \u001B[1;32mif\u001B[0m \u001B[1;32mnot\u001B[0m \u001B[0mcoroutines\u001B[0m\u001B[1;33m.\u001B[0m\u001B[0miscoroutine\u001B[0m\u001B[1;33m(\u001B[0m\u001B[0mmain\u001B[0m\u001B[1;33m)\u001B[0m\u001B[1;33m:\u001B[0m\u001B[1;33m\u001B[0m\u001B[0m\n",
      "\u001B[1;31mRuntimeError\u001B[0m: asyncio.run() cannot be called from a running event loop"
     ]
    }
   ],
   "source": [],
   "metadata": {
    "collapsed": false,
    "pycharm": {
     "name": "#%%\n"
    }
   }
  },
  {
   "cell_type": "code",
   "execution_count": null,
   "outputs": [],
   "source": [],
   "metadata": {
    "collapsed": false,
    "pycharm": {
     "name": "#%%\n"
    }
   }
  }
 ],
 "metadata": {
  "kernelspec": {
   "display_name": "Python 3",
   "language": "python",
   "name": "python3"
  },
  "language_info": {
   "codemirror_mode": {
    "name": "ipython",
    "version": 3
   },
   "file_extension": ".py",
   "mimetype": "text/x-python",
   "name": "python",
   "nbconvert_exporter": "python",
   "pygments_lexer": "ipython3",
   "version": "3.7.0"
  }
 },
 "nbformat": 4,
 "nbformat_minor": 2
}