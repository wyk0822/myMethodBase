{
 "cells": [
  {
   "cell_type": "code",
   "execution_count": 2,
   "metadata": {},
   "outputs": [
    {
     "data": {
      "text/plain": [
       "False"
      ]
     },
     "execution_count": 2,
     "metadata": {},
     "output_type": "execute_result"
    }
   ],
   "source": [
    "from time import sleep\n",
    "True if len([]) > 0 else False"
   ]
  },
  {
   "cell_type": "code",
   "execution_count": 1,
   "metadata": {},
   "outputs": [],
   "source": [
    "from faker import Faker"
   ]
  },
  {
   "cell_type": "code",
   "execution_count": 28,
   "metadata": {},
   "outputs": [
    {
     "data": {
      "text/plain": [
       "'刘桂芝'"
      ]
     },
     "execution_count": 28,
     "metadata": {},
     "output_type": "execute_result"
    }
   ],
   "source": [
    "f = Faker(\"zh_CN\")\n",
    "f.name()"
   ]
  },
  {
   "cell_type": "code",
   "execution_count": 37,
   "metadata": {},
   "outputs": [
    {
     "name": "stdout",
     "output_type": "stream",
     "text": [
      "[2]\n"
     ]
    }
   ],
   "source": [
    "-3//2\n",
    "l = [1,2]\n",
    "del l[0]\n",
    "print(l)"
   ]
  },
  {
   "cell_type": "code",
   "execution_count": 61,
   "metadata": {},
   "outputs": [
    {
     "data": {
      "text/plain": [
       "[9, 8, 7, 6, 5, 4, 3, 2, 1, 0]"
      ]
     },
     "execution_count": 61,
     "metadata": {},
     "output_type": "execute_result"
    }
   ],
   "source": [
    "[*range(10)][::-1]"
   ]
  },
  {
   "cell_type": "code",
   "execution_count": 1,
   "metadata": {},
   "outputs": [
    {
     "name": "stdout",
     "output_type": "stream",
     "text": [
      "[90]\n",
      "[11]\n",
      "[11, 7]\n",
      "[11, 7, -6]\n",
      "[11, 7, -30]\n",
      "[11, 7, -7]\n",
      "[11, 7, -7, 3]\n",
      "[11, 7, -7, 3, -2]\n",
      "[11, 7, -7, 3, -2]\n"
     ]
    },
    {
     "data": {
      "text/plain": "12"
     },
     "execution_count": 1,
     "metadata": {},
     "output_type": "execute_result"
    }
   ],
   "source": [
    "# * / + -\n",
    "def clumsy(N):\n",
    "    op = 0\n",
    "    stack = [N]\n",
    "    for i in range(N - 1, 0, -1):\n",
    "\n",
    "        if op == 0:\n",
    "            stack.append(stack.pop() * i)\n",
    "        elif op == 1:\n",
    "            stack.append(int(stack.pop() / float(i)))\n",
    "#             stack.append(int(stack.pop() // i))\n",
    "        elif op == 2:\n",
    "            stack.append(i)\n",
    "        elif op == 3:\n",
    "            stack.append(-i)\n",
    "        op = (op + 1) % 4\n",
    "        print(stack)\n",
    "    return sum(stack)\n",
    "clumsy(10)"
   ]
  },
  {
   "cell_type": "code",
   "execution_count": 43,
   "metadata": {},
   "outputs": [
    {
     "data": {
      "text/plain": [
       "3"
      ]
     },
     "execution_count": 43,
     "metadata": {},
     "output_type": "execute_result"
    }
   ],
   "source": [
    "[90]\n",
    "[11]\n",
    "[11, 7]\n",
    "[11, 7, -6]\n",
    "[11, 7, -30]\n",
    "[11, 7, -8]\n",
    "[11, 7, -8, 3]\n",
    "[11, 7, -8, 3, -2]\n",
    "[11, 7, -8, 3, -2]"
   ]
  },
  {
   "cell_type": "code",
   "execution_count": 3,
   "outputs": [
    {
     "name": "stdout",
     "output_type": "stream",
     "text": [
      "3\n"
     ]
    }
   ],
   "source": [
    "\n",
    "def removeElement(nums, val: int) -> int:\n",
    "    index = 0\n",
    "    afterlst = []\n",
    "    for _ in range(len(nums)):\n",
    "        if  nums[0] == val:\n",
    "            pass\n",
    "        else:\n",
    "            afterlst.append(nums[0])\n",
    "        del nums[0]\n",
    "        index+=1\n",
    "    return len(afterlst)\n",
    "\n",
    "\n",
    "def removeElement2(nums, val: int) -> int:\n",
    "    if len(nums) == 0:\n",
    "        return 0\n",
    "    slow = 0\n",
    "    for quick in range(0, len(nums)):\n",
    "        if nums[quick] != val:\n",
    "            nums[slow] = nums[quick]\n",
    "            slow += 1\n",
    "    return slow\n",
    "print(removeElement2([1,2,3,2,1],2))"
   ],
   "metadata": {
    "collapsed": false,
    "pycharm": {
     "name": "#%%\n"
    }
   }
  },
  {
   "cell_type": "code",
   "execution_count": 20,
   "outputs": [
    {
     "name": "stdout",
     "output_type": "stream",
     "text": [
      "2258022509376 2258022510384 2258022509376\n",
      "{1: [10, 2, 3]} {1: [10, 2, 3]} {1: [10, 2, 3]}\n",
      "{1: 'aaaa'} {1: [10, 2, 3]} {1: 'aaaa'}\n"
     ]
    }
   ],
   "source": [
    "# copy模块里面的copy方法实现。浅拷贝后，改变原始对象中为可变类型的元素的值，\n",
    "# 会同时影响拷贝对象；改变原始对象中为不可变类型的元素的值，不会响拷贝对象。\n",
    "a = {1:[1,2,3]}\n",
    "c = a   # 直接赋值引用id不会发生变化\n",
    "b = a.copy()  # 浅拷贝\n",
    "a[1][0] = 10\n",
    "print(id(a), id(b), id(c))\n",
    "print(a, b,c)\n",
    "a[1] = \"aaaa\"\n",
    "print(a, b,c)\n"
   ],
   "metadata": {
    "collapsed": false,
    "pycharm": {
     "name": "#%%\n"
    }
   }
  },
  {
   "cell_type": "code",
   "execution_count": 10,
   "outputs": [
    {
     "name": "stdout",
     "output_type": "stream",
     "text": [
      "1809814322120 1809814322120\n",
      "1809814322120 1809814321800\n"
     ]
    }
   ],
   "source": [
    "# 深拷贝\n",
    "#\n",
    "# copy模块里面的deepcopy方法实现。深拷贝，除了顶层拷贝，还对子元素也进行了拷贝。\n",
    "# 经过深拷贝后，原始对象和拷贝对象所有的可变元素地址都没有相同的了。\n",
    "print(id(a[1]), id(b[1]))\n",
    "import copy\n",
    "d = copy.deepcopy(a) # 深拷贝\n",
    "print(id(a[1]), id(d[1]))"
   ],
   "metadata": {
    "collapsed": false,
    "pycharm": {
     "name": "#%%\n"
    }
   }
  },
  {
   "cell_type": "code",
   "execution_count": 29,
   "outputs": [
    {
     "ename": "TypeError",
     "evalue": "fun1() missing 1 required positional argument: 'num'",
     "output_type": "error",
     "traceback": [
      "\u001B[1;31m---------------------------------------------------------------------------\u001B[0m",
      "\u001B[1;31mTypeError\u001B[0m                                 Traceback (most recent call last)",
      "\u001B[1;32m<ipython-input-29-fc6b53d2e570>\u001B[0m in \u001B[0;36m<module>\u001B[1;34m()\u001B[0m\n\u001B[0;32m     11\u001B[0m     \u001B[1;32mreturn\u001B[0m \u001B[0mfun1\u001B[0m\u001B[1;33m(\u001B[0m\u001B[1;33m)\u001B[0m\u001B[1;33m\u001B[0m\u001B[0m\n\u001B[0;32m     12\u001B[0m \u001B[1;33m\u001B[0m\u001B[0m\n\u001B[1;32m---> 13\u001B[1;33m \u001B[0mvar\u001B[0m \u001B[1;33m=\u001B[0m \u001B[0mfun\u001B[0m\u001B[1;33m(\u001B[0m\u001B[1;33m)\u001B[0m\u001B[1;33m\u001B[0m\u001B[0m\n\u001B[0m\u001B[0;32m     14\u001B[0m \u001B[0mvar\u001B[0m\u001B[1;33m(\u001B[0m\u001B[1;36m10\u001B[0m\u001B[1;33m)\u001B[0m\u001B[1;33m\u001B[0m\u001B[0m\n",
      "\u001B[1;32m<ipython-input-29-fc6b53d2e570>\u001B[0m in \u001B[0;36mfun\u001B[1;34m()\u001B[0m\n\u001B[0;32m      9\u001B[0m         \u001B[0mprint\u001B[0m\u001B[1;33m(\u001B[0m\u001B[1;34m\"this is fun1\"\u001B[0m\u001B[1;33m)\u001B[0m\u001B[1;33m\u001B[0m\u001B[0m\n\u001B[0;32m     10\u001B[0m         \u001B[0mprint\u001B[0m\u001B[1;33m(\u001B[0m\u001B[0mnum\u001B[0m \u001B[1;33m+\u001B[0m \u001B[0ma\u001B[0m\u001B[1;33m)\u001B[0m\u001B[1;33m\u001B[0m\u001B[0m\n\u001B[1;32m---> 11\u001B[1;33m     \u001B[1;32mreturn\u001B[0m \u001B[0mfun1\u001B[0m\u001B[1;33m(\u001B[0m\u001B[1;33m)\u001B[0m\u001B[1;33m\u001B[0m\u001B[0m\n\u001B[0m\u001B[0;32m     12\u001B[0m \u001B[1;33m\u001B[0m\u001B[0m\n\u001B[0;32m     13\u001B[0m \u001B[0mvar\u001B[0m \u001B[1;33m=\u001B[0m \u001B[0mfun\u001B[0m\u001B[1;33m(\u001B[0m\u001B[1;33m)\u001B[0m\u001B[1;33m\u001B[0m\u001B[0m\n",
      "\u001B[1;31mTypeError\u001B[0m: fun1() missing 1 required positional argument: 'num'"
     ]
    }
   ],
   "source": [
    "# 闭包\n",
    "# 定义：绑定了外部作用域的变量的函数\n",
    "# 即使程序离开了外部作用域，如果闭包仍然可见，绑定变量不会销毁\n",
    "# 每次运行外部函数都会重新创建闭包\n",
    "def fun():\n",
    "    a = 1\n",
    "    def fun1(num):\n",
    "        print(\"this is fun1\")\n",
    "        print(num + a)\n",
    "    return fun1\n",
    "\n",
    "var = fun()\n",
    "var(10)"
   ],
   "metadata": {
    "collapsed": false,
    "pycharm": {
     "name": "#%%\n"
    }
   }
  },
  {
   "cell_type": "code",
   "execution_count": 1,
   "outputs": [
    {
     "name": "stdout",
     "output_type": "stream",
     "text": [
      "装饰器函数\n",
      "被装饰函数。。\n"
     ]
    },
    {
     "name": "stderr",
     "output_type": "stream",
     "text": [
      "E:\\anaconda\\lib\\site-packages\\ipykernel\\parentpoller.py:116: UserWarning: Parent poll failed.  If the frontend dies,\n",
      "                the kernel may be left running.  Please let us know\n",
      "                about your system (bitness, Python, etc.) at\n",
      "                ipython-dev@scipy.org\n",
      "  ipython-dev@scipy.org\"\"\")\n"
     ]
    },
    {
     "ename": "ConnectionError",
     "evalue": "Error 10060 connecting to 192.168.109.128:6379. 由于连接方在一段时间后没有正确答复或连接的主机没有反应，连接尝试失败。.",
     "output_type": "error",
     "traceback": [
      "\u001B[1;31m---------------------------------------------------------------------------\u001B[0m",
      "\u001B[1;31mTimeoutError\u001B[0m                              Traceback (most recent call last)",
      "\u001B[1;32mE:\\anaconda\\lib\\site-packages\\redis\\connection.py\u001B[0m in \u001B[0;36mconnect\u001B[1;34m(self)\u001B[0m\n\u001B[0;32m    558\u001B[0m         \u001B[1;32mtry\u001B[0m\u001B[1;33m:\u001B[0m\u001B[1;33m\u001B[0m\u001B[0m\n\u001B[1;32m--> 559\u001B[1;33m             \u001B[0msock\u001B[0m \u001B[1;33m=\u001B[0m \u001B[0mself\u001B[0m\u001B[1;33m.\u001B[0m\u001B[0m_connect\u001B[0m\u001B[1;33m(\u001B[0m\u001B[1;33m)\u001B[0m\u001B[1;33m\u001B[0m\u001B[0m\n\u001B[0m\u001B[0;32m    560\u001B[0m         \u001B[1;32mexcept\u001B[0m \u001B[0msocket\u001B[0m\u001B[1;33m.\u001B[0m\u001B[0mtimeout\u001B[0m\u001B[1;33m:\u001B[0m\u001B[1;33m\u001B[0m\u001B[0m\n",
      "\u001B[1;32mE:\\anaconda\\lib\\site-packages\\redis\\connection.py\u001B[0m in \u001B[0;36m_connect\u001B[1;34m(self)\u001B[0m\n\u001B[0;32m    614\u001B[0m         \u001B[1;32mif\u001B[0m \u001B[0merr\u001B[0m \u001B[1;32mis\u001B[0m \u001B[1;32mnot\u001B[0m \u001B[1;32mNone\u001B[0m\u001B[1;33m:\u001B[0m\u001B[1;33m\u001B[0m\u001B[0m\n\u001B[1;32m--> 615\u001B[1;33m             \u001B[1;32mraise\u001B[0m \u001B[0merr\u001B[0m\u001B[1;33m\u001B[0m\u001B[0m\n\u001B[0m\u001B[0;32m    616\u001B[0m         \u001B[1;32mraise\u001B[0m \u001B[0msocket\u001B[0m\u001B[1;33m.\u001B[0m\u001B[0merror\u001B[0m\u001B[1;33m(\u001B[0m\u001B[1;34m\"socket.getaddrinfo returned an empty list\"\u001B[0m\u001B[1;33m)\u001B[0m\u001B[1;33m\u001B[0m\u001B[0m\n",
      "\u001B[1;32mE:\\anaconda\\lib\\site-packages\\redis\\connection.py\u001B[0m in \u001B[0;36m_connect\u001B[1;34m(self)\u001B[0m\n\u001B[0;32m    602\u001B[0m                 \u001B[1;31m# connect\u001B[0m\u001B[1;33m\u001B[0m\u001B[1;33m\u001B[0m\u001B[0m\n\u001B[1;32m--> 603\u001B[1;33m                 \u001B[0msock\u001B[0m\u001B[1;33m.\u001B[0m\u001B[0mconnect\u001B[0m\u001B[1;33m(\u001B[0m\u001B[0msocket_address\u001B[0m\u001B[1;33m)\u001B[0m\u001B[1;33m\u001B[0m\u001B[0m\n\u001B[0m\u001B[0;32m    604\u001B[0m \u001B[1;33m\u001B[0m\u001B[0m\n",
      "\u001B[1;31mTimeoutError\u001B[0m: [WinError 10060] 由于连接方在一段时间后没有正确答复或连接的主机没有反应，连接尝试失败。",
      "\nDuring handling of the above exception, another exception occurred:\n",
      "\u001B[1;31mConnectionError\u001B[0m                           Traceback (most recent call last)",
      "\u001B[1;32m<ipython-input-1-fc15bc2401af>\u001B[0m in \u001B[0;36m<module>\u001B[1;34m()\u001B[0m\n\u001B[0;32m     15\u001B[0m \u001B[0mpool\u001B[0m \u001B[1;33m=\u001B[0m \u001B[0mredis\u001B[0m\u001B[1;33m.\u001B[0m\u001B[0mConnectionPool\u001B[0m\u001B[1;33m(\u001B[0m\u001B[0mhost\u001B[0m\u001B[1;33m=\u001B[0m\u001B[1;34m'192.168.109.128'\u001B[0m\u001B[1;33m,\u001B[0m \u001B[0mport\u001B[0m\u001B[1;33m=\u001B[0m\u001B[1;36m6379\u001B[0m\u001B[1;33m,\u001B[0m \u001B[0mdecode_responses\u001B[0m\u001B[1;33m=\u001B[0m\u001B[1;32mTrue\u001B[0m\u001B[1;33m)\u001B[0m\u001B[1;33m\u001B[0m\u001B[0m\n\u001B[0;32m     16\u001B[0m \u001B[0mr\u001B[0m \u001B[1;33m=\u001B[0m \u001B[0mredis\u001B[0m\u001B[1;33m.\u001B[0m\u001B[0mRedis\u001B[0m\u001B[1;33m(\u001B[0m\u001B[0mconnection_pool\u001B[0m\u001B[1;33m=\u001B[0m\u001B[0mpool\u001B[0m\u001B[1;33m)\u001B[0m\u001B[1;33m\u001B[0m\u001B[0m\n\u001B[1;32m---> 17\u001B[1;33m \u001B[0mr\u001B[0m\u001B[1;33m.\u001B[0m\u001B[0mset\u001B[0m\u001B[1;33m(\u001B[0m\u001B[1;34m\"a\"\u001B[0m\u001B[1;33m,\u001B[0m\u001B[1;34m\"11110\"\u001B[0m\u001B[1;33m,\u001B[0m \u001B[0mex\u001B[0m\u001B[1;33m=\u001B[0m\u001B[1;36m100\u001B[0m\u001B[1;33m)\u001B[0m\u001B[1;33m\u001B[0m\u001B[0m\n\u001B[0m\u001B[0;32m     18\u001B[0m \u001B[0mprint\u001B[0m\u001B[1;33m(\u001B[0m\u001B[0mr\u001B[0m\u001B[1;33m.\u001B[0m\u001B[0mget\u001B[0m\u001B[1;33m(\u001B[0m\u001B[1;34m\"a\"\u001B[0m\u001B[1;33m)\u001B[0m\u001B[1;33m)\u001B[0m\u001B[1;33m\u001B[0m\u001B[0m\n",
      "\u001B[1;32mE:\\anaconda\\lib\\site-packages\\redis\\client.py\u001B[0m in \u001B[0;36mset\u001B[1;34m(self, name, value, ex, px, nx, xx, keepttl)\u001B[0m\n\u001B[0;32m   1799\u001B[0m             \u001B[0mpieces\u001B[0m\u001B[1;33m.\u001B[0m\u001B[0mappend\u001B[0m\u001B[1;33m(\u001B[0m\u001B[1;34m'KEEPTTL'\u001B[0m\u001B[1;33m)\u001B[0m\u001B[1;33m\u001B[0m\u001B[0m\n\u001B[0;32m   1800\u001B[0m \u001B[1;33m\u001B[0m\u001B[0m\n\u001B[1;32m-> 1801\u001B[1;33m         \u001B[1;32mreturn\u001B[0m \u001B[0mself\u001B[0m\u001B[1;33m.\u001B[0m\u001B[0mexecute_command\u001B[0m\u001B[1;33m(\u001B[0m\u001B[1;34m'SET'\u001B[0m\u001B[1;33m,\u001B[0m \u001B[1;33m*\u001B[0m\u001B[0mpieces\u001B[0m\u001B[1;33m)\u001B[0m\u001B[1;33m\u001B[0m\u001B[0m\n\u001B[0m\u001B[0;32m   1802\u001B[0m \u001B[1;33m\u001B[0m\u001B[0m\n\u001B[0;32m   1803\u001B[0m     \u001B[1;32mdef\u001B[0m \u001B[0m__setitem__\u001B[0m\u001B[1;33m(\u001B[0m\u001B[0mself\u001B[0m\u001B[1;33m,\u001B[0m \u001B[0mname\u001B[0m\u001B[1;33m,\u001B[0m \u001B[0mvalue\u001B[0m\u001B[1;33m)\u001B[0m\u001B[1;33m:\u001B[0m\u001B[1;33m\u001B[0m\u001B[0m\n",
      "\u001B[1;32mE:\\anaconda\\lib\\site-packages\\redis\\client.py\u001B[0m in \u001B[0;36mexecute_command\u001B[1;34m(self, *args, **options)\u001B[0m\n\u001B[0;32m    896\u001B[0m         \u001B[0mpool\u001B[0m \u001B[1;33m=\u001B[0m \u001B[0mself\u001B[0m\u001B[1;33m.\u001B[0m\u001B[0mconnection_pool\u001B[0m\u001B[1;33m\u001B[0m\u001B[0m\n\u001B[0;32m    897\u001B[0m         \u001B[0mcommand_name\u001B[0m \u001B[1;33m=\u001B[0m \u001B[0margs\u001B[0m\u001B[1;33m[\u001B[0m\u001B[1;36m0\u001B[0m\u001B[1;33m]\u001B[0m\u001B[1;33m\u001B[0m\u001B[0m\n\u001B[1;32m--> 898\u001B[1;33m         \u001B[0mconn\u001B[0m \u001B[1;33m=\u001B[0m \u001B[0mself\u001B[0m\u001B[1;33m.\u001B[0m\u001B[0mconnection\u001B[0m \u001B[1;32mor\u001B[0m \u001B[0mpool\u001B[0m\u001B[1;33m.\u001B[0m\u001B[0mget_connection\u001B[0m\u001B[1;33m(\u001B[0m\u001B[0mcommand_name\u001B[0m\u001B[1;33m,\u001B[0m \u001B[1;33m**\u001B[0m\u001B[0moptions\u001B[0m\u001B[1;33m)\u001B[0m\u001B[1;33m\u001B[0m\u001B[0m\n\u001B[0m\u001B[0;32m    899\u001B[0m         \u001B[1;32mtry\u001B[0m\u001B[1;33m:\u001B[0m\u001B[1;33m\u001B[0m\u001B[0m\n\u001B[0;32m    900\u001B[0m             \u001B[0mconn\u001B[0m\u001B[1;33m.\u001B[0m\u001B[0msend_command\u001B[0m\u001B[1;33m(\u001B[0m\u001B[1;33m*\u001B[0m\u001B[0margs\u001B[0m\u001B[1;33m)\u001B[0m\u001B[1;33m\u001B[0m\u001B[0m\n",
      "\u001B[1;32mE:\\anaconda\\lib\\site-packages\\redis\\connection.py\u001B[0m in \u001B[0;36mget_connection\u001B[1;34m(self, command_name, *keys, **options)\u001B[0m\n\u001B[0;32m   1190\u001B[0m         \u001B[1;32mtry\u001B[0m\u001B[1;33m:\u001B[0m\u001B[1;33m\u001B[0m\u001B[0m\n\u001B[0;32m   1191\u001B[0m             \u001B[1;31m# ensure this connection is connected to Redis\u001B[0m\u001B[1;33m\u001B[0m\u001B[1;33m\u001B[0m\u001B[0m\n\u001B[1;32m-> 1192\u001B[1;33m             \u001B[0mconnection\u001B[0m\u001B[1;33m.\u001B[0m\u001B[0mconnect\u001B[0m\u001B[1;33m(\u001B[0m\u001B[1;33m)\u001B[0m\u001B[1;33m\u001B[0m\u001B[0m\n\u001B[0m\u001B[0;32m   1193\u001B[0m             \u001B[1;31m# connections that the pool provides should be ready to send\u001B[0m\u001B[1;33m\u001B[0m\u001B[1;33m\u001B[0m\u001B[0m\n\u001B[0;32m   1194\u001B[0m             \u001B[1;31m# a command. if not, the connection was either returned to the\u001B[0m\u001B[1;33m\u001B[0m\u001B[1;33m\u001B[0m\u001B[0m\n",
      "\u001B[1;32mE:\\anaconda\\lib\\site-packages\\redis\\connection.py\u001B[0m in \u001B[0;36mconnect\u001B[1;34m(self)\u001B[0m\n\u001B[0;32m    561\u001B[0m             \u001B[1;32mraise\u001B[0m \u001B[0mTimeoutError\u001B[0m\u001B[1;33m(\u001B[0m\u001B[1;34m\"Timeout connecting to server\"\u001B[0m\u001B[1;33m)\u001B[0m\u001B[1;33m\u001B[0m\u001B[0m\n\u001B[0;32m    562\u001B[0m         \u001B[1;32mexcept\u001B[0m \u001B[0msocket\u001B[0m\u001B[1;33m.\u001B[0m\u001B[0merror\u001B[0m \u001B[1;32mas\u001B[0m \u001B[0me\u001B[0m\u001B[1;33m:\u001B[0m\u001B[1;33m\u001B[0m\u001B[0m\n\u001B[1;32m--> 563\u001B[1;33m             \u001B[1;32mraise\u001B[0m \u001B[0mConnectionError\u001B[0m\u001B[1;33m(\u001B[0m\u001B[0mself\u001B[0m\u001B[1;33m.\u001B[0m\u001B[0m_error_message\u001B[0m\u001B[1;33m(\u001B[0m\u001B[0me\u001B[0m\u001B[1;33m)\u001B[0m\u001B[1;33m)\u001B[0m\u001B[1;33m\u001B[0m\u001B[0m\n\u001B[0m\u001B[0;32m    564\u001B[0m \u001B[1;33m\u001B[0m\u001B[0m\n\u001B[0;32m    565\u001B[0m         \u001B[0mself\u001B[0m\u001B[1;33m.\u001B[0m\u001B[0m_sock\u001B[0m \u001B[1;33m=\u001B[0m \u001B[0msock\u001B[0m\u001B[1;33m\u001B[0m\u001B[0m\n",
      "\u001B[1;31mConnectionError\u001B[0m: Error 10060 connecting to 192.168.109.128:6379. 由于连接方在一段时间后没有正确答复或连接的主机没有反应，连接尝试失败。."
     ]
    }
   ],
   "source": [
    "def func1(func):     # func外部被装饰函数\n",
    "    def func2():\n",
    "        print(\"装饰器函数\")\n",
    "        return func()\n",
    "    return func2\n",
    "\n",
    "@func1\n",
    "def test():\n",
    "    print(\"被装饰函数。。\")\n",
    "\n",
    "test()\n",
    "\n",
    "import redis\n",
    "pool = redis.ConnectionPool(host='192.168.109.128', port=6379, decode_responses=True)\n",
    "r = redis.Redis(connection_pool=pool)\n",
    "r.set(\"a\",\"11110\", ex=100)\n",
    "print(r.get(\"a\"))"
   ],
   "metadata": {
    "collapsed": false,
    "pycharm": {
     "name": "#%%\n"
    }
   }
  },
  {
   "cell_type": "code",
   "execution_count": 22,
   "outputs": [
    {
     "name": "stdout",
     "output_type": "stream",
     "text": [
      "[9, 7, 6, 6, 5, 4, 4, 3, 3, 2, 2]\n"
     ]
    }
   ],
   "source": [
    "lst = [9,2,3,4,2,3,5,6,7,4,6]\n",
    "print(sorted(lst)[::-1])\n"
   ],
   "metadata": {
    "collapsed": false,
    "pycharm": {
     "name": "#%%\n"
    }
   }
  },
  {
   "cell_type": "code",
   "execution_count": 24,
   "outputs": [
    {
     "name": "stdout",
     "output_type": "stream",
     "text": [
      "5050\n"
     ]
    }
   ],
   "source": [
    "print(sum([*range(1,101)]))"
   ],
   "metadata": {
    "collapsed": false,
    "pycharm": {
     "name": "#%%\n"
    }
   }
  },
  {
   "cell_type": "code",
   "execution_count": 8,
   "outputs": [
    {
     "name": "stdout",
     "output_type": "stream",
     "text": [
      "0 1 2 3 4 5 6 7 8 9\n",
      "2\n"
     ]
    }
   ],
   "source": [
    "print(*range(0,10))\n",
    "global s\n",
    "s=1\n",
    "def ss():\n",
    "    global s\n",
    "    s+=1\n",
    "ss()\n",
    "print(s)"
   ],
   "metadata": {
    "collapsed": false,
    "pycharm": {
     "name": "#%%\n"
    }
   }
  },
  {
   "cell_type": "code",
   "execution_count": 35,
   "outputs": [
    {
     "name": "stdout",
     "output_type": "stream",
     "text": [
      "a\n",
      "(1, 1, 2)\n",
      "{'x1': ('1', '2'), 'x': {'3': '333'}}\n"
     ]
    }
   ],
   "source": [
    "def ss(a, *r, **x):\n",
    "    print(a)\n",
    "    print(r)\n",
    "    print(x)\n",
    "\n",
    "ss(\"a\",1,1,2,x1 = (\"1\",\"2\", ), x = {\"3\":\"333\"})"
   ],
   "metadata": {
    "collapsed": false,
    "pycharm": {
     "name": "#%%\n"
    }
   }
  },
  {
   "cell_type": "code",
   "execution_count": 16,
   "outputs": [
    {
     "name": "stdout",
     "output_type": "stream",
     "text": [
      "[865, 33, 23, 11, 4, 4, 3, 2]\n"
     ]
    }
   ],
   "source": [
    "data = [2,3,4,23,11,33,4,865]\n",
    "for i in range(len(data)-1):\n",
    "    for j in range(len(data)-1-i):\n",
    "        if data[j]<data[j+1]:\n",
    "            data[j], data[j+1] = data[j+1], data[j]\n",
    "print(data)"
   ],
   "metadata": {
    "collapsed": false,
    "pycharm": {
     "name": "#%%\n"
    }
   }
  },
  {
   "cell_type": "code",
   "execution_count": 8,
   "outputs": [
    {
     "name": "stdout",
     "output_type": "stream",
     "text": [
      "181\n"
     ]
    }
   ],
   "source": [
    "str_ = \"qase123iub56a2\"\n",
    "num = ''\n",
    "numlst = []\n",
    "for _ in str_:\n",
    "    if _ in [str(x) for x in range(0, 10)]:\n",
    "        num+=_\n",
    "    else:\n",
    "        if num!=\"\":\n",
    "            numlst.append(num)\n",
    "            num = ''\n",
    "\n",
    "if num!=\"\":\n",
    "    numlst.append(num)\n",
    "x = 0\n",
    "for _ in numlst:\n",
    "    x+=int(_)\n",
    "print(x)\n"
   ],
   "metadata": {
    "collapsed": false,
    "pycharm": {
     "name": "#%%\n"
    }
   }
  },
  {
   "cell_type": "code",
   "execution_count": 13,
   "outputs": [],
   "source": [
    "1^0\n",
    "2^1\n"
   ],
   "metadata": {
    "collapsed": false,
    "pycharm": {
     "name": "#%%\n"
    }
   }
  },
  {
   "cell_type": "code",
   "execution_count": 1,
   "outputs": [
    {
     "name": "stdout",
     "output_type": "stream",
     "text": [
      "['Untitled.ipynb']\n",
      "['Untitled-checkpoint.ipynb']\n"
     ]
    },
    {
     "name": "stderr",
     "output_type": "stream",
     "text": [
      "E:\\anaconda\\lib\\site-packages\\ipykernel\\parentpoller.py:116: UserWarning: Parent poll failed.  If the frontend dies,\n",
      "                the kernel may be left running.  Please let us know\n",
      "                about your system (bitness, Python, etc.) at\n",
      "                ipython-dev@scipy.org\n",
      "  ipython-dev@scipy.org\"\"\")\n"
     ]
    }
   ],
   "source": [
    "import os\n",
    "def file_name(file_dir):\n",
    "    for root, dirs, files in os.walk(file_dir):\n",
    "        # print(root)  # 当前目录路径\n",
    "        # print(dirs)  # 当前路径下所有子目录\n",
    "        print(files)  # 当前路径下所有非目录子文件\n",
    "file_name(\"./\")"
   ],
   "metadata": {
    "collapsed": false,
    "pycharm": {
     "name": "#%%\n"
    }
   }
  },
  {
   "cell_type": "code",
   "execution_count": 25,
   "outputs": [
    {
     "name": "stdout",
     "output_type": "stream",
     "text": [
      "2  1 0 0\n",
      "1 2 2 0 1\n",
      "2 1\n",
      "3 12 3 1 3\n",
      "4 2\n",
      "a 231 4 2 5\n",
      "6 6\n",
      "7 7\n",
      "w a 4 7 8\n",
      "9 9\n"
     ]
    },
    {
     "data": {
      "text/plain": "4"
     },
     "execution_count": 25,
     "metadata": {},
     "output_type": "execute_result"
    }
   ],
   "source": [
    "# 滑动窗口\n",
    "def lengthOfLongestSubstring(s: str) -> int:\n",
    "    if s == \"\":\n",
    "        return 0\n",
    "    else:\n",
    "        max_len = 0\n",
    "        win_start = 0\n",
    "        # 循环窗口末位置\n",
    "        for win_end in range(len(s)):\n",
    "            # 若当前字符不在窗口中,将窗口尾指针加1，也就是循环下一次 更新max_len\n",
    "            if s[win_end] not in s[win_start:win_end]:\n",
    "\n",
    "                max_len = max(max_len, win_end-win_start+1)\n",
    "\n",
    "\n",
    "                print(s[win_end], s[win_start:win_end], max_len, win_start, win_end)\n",
    "            # 若在窗口中则 s[win_start:win_end].index(s[win_end]) 返回的是s[win_end]字符的坐标\n",
    "            # , 将win_start指针指到s[win_end]在主字符串的下标\n",
    "            else:\n",
    "                win_start = win_start + s[win_start:win_end].index(s[win_end]) +1\n",
    "        return max_len\n",
    "lengthOfLongestSubstring(\"21231aaaww\")"
   ],
   "metadata": {
    "collapsed": false,
    "pycharm": {
     "name": "#%%\n"
    }
   }
  },
  {
   "cell_type": "code",
   "execution_count": 22,
   "outputs": [
    {
     "ename": "ValueError",
     "evalue": "substring not found",
     "output_type": "error",
     "traceback": [
      "\u001B[1;31m---------------------------------------------------------------------------\u001B[0m",
      "\u001B[1;31mValueError\u001B[0m                                Traceback (most recent call last)",
      "\u001B[1;32m<ipython-input-22-94a3e7ad73a7>\u001B[0m in \u001B[0;36m<module>\u001B[1;34m()\u001B[0m\n\u001B[0;32m      1\u001B[0m \u001B[1;33m\u001B[0m\u001B[0m\n\u001B[1;32m----> 2\u001B[1;33m \u001B[1;34m\"aaaa\"\u001B[0m\u001B[1;33m.\u001B[0m\u001B[0mindex\u001B[0m\u001B[1;33m(\u001B[0m\u001B[1;34m\"v\"\u001B[0m\u001B[1;33m)\u001B[0m\u001B[1;33m\u001B[0m\u001B[0m\n\u001B[0m",
      "\u001B[1;31mValueError\u001B[0m: substring not found"
     ]
    }
   ],
   "source": [
    "\"aaaavv\".index(\"v\")"
   ],
   "metadata": {
    "collapsed": false,
    "pycharm": {
     "name": "#%%\n"
    }
   }
  },
  {
   "cell_type": "code",
   "execution_count": 67,
   "outputs": [
    {
     "name": "stdout",
     "output_type": "stream",
     "text": [
      "1534\n"
     ]
    }
   ],
   "source": [
    "def list_dictionary(d, n_tab=-1):\n",
    "    if isinstance(d, list):\n",
    "        index = 0\n",
    "        for i in d:\n",
    "            index += 1\n",
    "            list_dictionary(i, n_tab)\n",
    "    elif isinstance(d, dict):\n",
    "        n_tab += 1\n",
    "        for key, value in d.items():\n",
    "\n",
    "            list_dictionary(value, n_tab)\n",
    "    return d\n",
    "\n",
    "# 猴子摘桃\n",
    "# 递归实现\n",
    "def fun(target, i = 1):\n",
    "    x = 2 * target + 2\n",
    "    i +=1\n",
    "    print(i, x)\n",
    "    if i == 10:\n",
    "        return x\n",
    "    return fun(x, i)   # 一定要写return否则会返回None\n",
    "print(fun(1))\n",
    "# 循环实现\n",
    "def fun2(target):\n",
    "    z = target\n",
    "    for i in range(9):\n",
    "        z = 2*z+2\n",
    "    print(z)\n",
    "fun2(1)"
   ],
   "metadata": {
    "collapsed": false,
    "pycharm": {
     "name": "#%%\n"
    }
   }
  },
  {
   "cell_type": "code",
   "execution_count": 59,
   "outputs": [],
   "source": [
    "# 给定不同面额的硬币和一个总金额。写出函数来计算可以凑成总金额的硬币组合数。假设每一种面额的硬币有无限个。\n",
    "# 输入: amount = 5, coins = [1, 2, 5]\n",
    "# 输出: 4\n",
    "# 解释: 有四种方式可以凑成总金额:\n",
    "# 5=5\n",
    "# 5=2+2+1\n",
    "# 5=2+1+1+1\n",
    "# 5=1+1+1+1+1\n",
    "def change(amount: int, coins: list) -> int:\n",
    "    pass\n",
    "\n"
   ],
   "metadata": {
    "collapsed": false,
    "pycharm": {
     "name": "#%%\n"
    }
   }
  },
  {
   "cell_type": "code",
   "execution_count": 69,
   "outputs": [
    {
     "name": "stdout",
     "output_type": "stream",
     "text": [
      "<generator object diedai at 0x0000023A016A4C00>\n",
      "1\n",
      "2\n"
     ]
    }
   ],
   "source": [
    "def diedai():\n",
    "    yield 1\n",
    "    yield 2\n",
    "print(diedai())\n",
    "for i in diedai():\n",
    "    print(i)"
   ],
   "metadata": {
    "collapsed": false,
    "pycharm": {
     "name": "#%%\n"
    }
   }
  },
  {
   "cell_type": "code",
   "execution_count": 58,
   "outputs": [
    {
     "name": "stdout",
     "output_type": "stream",
     "text": [
      "110\n"
     ]
    }
   ],
   "source": [
    "def addBinary(a: str, b: str) -> str:\n",
    "    int_a = int(a, 2)\n",
    "    int_b = int(b, 2)\n",
    "    return bin(int_a+int_b)[2:]\n",
    "print(addBinary(\"1\", \"101\"))"
   ],
   "metadata": {
    "collapsed": false,
    "pycharm": {
     "name": "#%%\n"
    }
   }
  },
  {
   "cell_type": "code",
   "execution_count": 70,
   "outputs": [
    {
     "name": "stdout",
     "output_type": "stream",
     "text": [
      "decorate called\n",
      "fx called\n"
     ]
    }
   ],
   "source": [
    "from functools import wraps\n",
    "def My_decorate(f):\n",
    "    @wraps(f)\n",
    "    def fn(*args,**kwargs):\n",
    "        print('decorate called')\n",
    "        return f(*args,**kwargs)\n",
    "    return fn\n",
    "@My_decorate\n",
    "def fx():\n",
    "    print('fx called')\n",
    "fx()"
   ],
   "metadata": {
    "collapsed": false,
    "pycharm": {
     "name": "#%%\n"
    }
   }
  },
  {
   "cell_type": "code",
   "execution_count": 7,
   "outputs": [
    {
     "name": "stdout",
     "output_type": "stream",
     "text": [
      "<class 'range'>\n",
      "hello\n",
      "hello2\n"
     ]
    }
   ],
   "source": [
    "def simple_gen():\n",
    "    yield \"hello\"\n",
    "    yield \"hello2\"\n",
    "s = simple_gen()\n",
    "print(next(s))\n",
    "print(next(s))"
   ],
   "metadata": {
    "collapsed": false,
    "pycharm": {
     "name": "#%%\n"
    }
   }
  },
  {
   "cell_type": "code",
   "execution_count": 3,
   "outputs": [
    {
     "name": "stdout",
     "output_type": "stream",
     "text": [
      "0\n"
     ]
    }
   ],
   "source": [
    "import datetime\n",
    "print(datetime.datetime.now().weekday())"
   ],
   "metadata": {
    "collapsed": false,
    "pycharm": {
     "name": "#%%\n"
    }
   }
  },
  {
   "cell_type": "code",
   "execution_count": null,
   "outputs": [],
   "source": [
    "import os\n",
    "from time import sleep\n",
    "def _next_monday():\n",
    "    increase_days_to_sunday =6 - datetime.datetime.now().weekday()\n",
    "    date = lambda x: datetime.datetime.now() + datetime.timedelta(days=x)\n",
    "    os.system(f'date {date(increase_days_to_sunday).strftime(\"%Y-%m-%d\")}')\n",
    "    sleep(1)\n",
    "    os.system(f'date {date(1).strftime(\"%Y-%m-%d\")}')\n",
    "_next_monday()"
   ],
   "metadata": {
    "collapsed": false,
    "pycharm": {
     "name": "#%%\n",
     "is_executing": true
    }
   }
  },
  {
   "cell_type": "code",
   "execution_count": 1,
   "outputs": [
    {
     "name": "stdout",
     "output_type": "stream",
     "text": [
      "1624935807.3249779\n"
     ]
    }
   ],
   "source": [
    "import time\n",
    "t1 = time.time()\n",
    "print(t1)"
   ],
   "metadata": {
    "collapsed": false,
    "pycharm": {
     "name": "#%%\n"
    }
   }
  },
  {
   "cell_type": "code",
   "execution_count": null,
   "outputs": [],
   "source": [
    "# Definition for singly-linked list.\n",
    "class ListNode:\n",
    "    def __init__(self, x):\n",
    "        self.val = x\n",
    "        self.next = None\n",
    "\n",
    "class Solution:\n",
    "    def reverseList(self, head: ListNode) -> ListNode:\n",
    "        pre = None\n",
    "        cur = head\n",
    "        while cur:\n",
    "            nextnode = cur.next\n",
    "            cur.next = pre\n",
    "            pre = cur\n",
    "            cur = nextnode\n",
    "        return pre\n",
    "\n",
    "\n",
    "\n"
   ],
   "metadata": {
    "collapsed": false,
    "pycharm": {
     "name": "#%%\n"
    }
   }
  },
  {
   "cell_type": "code",
   "execution_count": 10,
   "outputs": [
    {
     "name": "stdout",
     "output_type": "stream",
     "text": [
      "<class '__main__.Base'>\n",
      "<class '__main__.Child'>\n",
      "hello_\n"
     ]
    }
   ],
   "source": [
    "class Base():\n",
    "    pass\n",
    "base = Base()\n",
    "print(Base)\n",
    "Somechild = type(\"Child\", (Base,), {}) # 生成一个新的类\n",
    "print(Somechild)\n",
    "\n",
    "class ChildWithMethod(Base):\n",
    "    bar = True\n",
    "\n",
    "    def hello(self):\n",
    "        print(\"hello\")\n",
    "\n",
    "# 等价定义\n",
    "def hello(self):\n",
    "    print(\"hello_\")\n",
    "ChildWithMethod2 = type('ChildWithMethod2', (Base,), {'bar':True, 'hello':hello})\n",
    "\n",
    "c2 = ChildWithMethod2()\n",
    "c2.hello()"
   ],
   "metadata": {
    "collapsed": false,
    "pycharm": {
     "name": "#%%\n"
    }
   }
  },
  {
   "cell_type": "code",
   "execution_count": 11,
   "outputs": [
    {
     "data": {
      "text/plain": "<__main__.CatToy at 0x1cb8d513128>"
     },
     "execution_count": 11,
     "metadata": {},
     "output_type": "execute_result"
    }
   ],
   "source": [
    "# 一个工厂方法的例子\n",
    "class DogToy():\n",
    "    def speak(self):\n",
    "        print(\"wang wang\")\n",
    "class CatToy():\n",
    "    def speak(self):\n",
    "        print(\"miao miao\")\n",
    "def toy_factory(toy_type):\n",
    "    if toy_type == 'dog':\n",
    "        return DogToy()\n",
    "    elif toy_type == 'cat':\n",
    "        return CatToy()\n",
    "toy_factory(\"cat\")"
   ],
   "metadata": {
    "collapsed": false,
    "pycharm": {
     "name": "#%%\n"
    }
   }
  },
  {
   "cell_type": "code",
   "execution_count": 18,
   "outputs": [
    {
     "name": "stdout",
     "output_type": "stream",
     "text": [
      "<__main__.MyCls object at 0x0000020DBCA1ECF8>\n",
      "2258022558968 2258022558968\n",
      "1\n",
      "10\n",
      "10\n",
      "1\n",
      "100\n"
     ]
    }
   ],
   "source": [
    "# 单例模式：一个类创建出来的对象都是同一个\n",
    "# python 的模块其实就是一个单例，只会导入一次\n",
    "class Singleton():\n",
    "    def __new__(cls, *args, **kwargs):\n",
    "        if not hasattr(cls, '_instance'):\n",
    "            _instance = super().__new__(cls, *args, **kwargs)\n",
    "            cls._instance = _instance\n",
    "        return cls._instance\n",
    "\n",
    "class MyCls(Singleton):\n",
    "    pass\n",
    "\n",
    "c1 = MyCls()\n",
    "c2 = MyCls()\n",
    "print(c2._instance)\n",
    "print(id(c1), id(c2))\n",
    "class variable():\n",
    "    a = 1\n",
    "    def __init__(self):\n",
    "        self.b = 10\n",
    "# 类变量不初始化也可以调用\n",
    "print(variable.a)\n",
    "# print(variable.b) 实例变量未初始化不可以调用\n",
    "v= variable()\n",
    "v1= variable()\n",
    "print(v.b)\n",
    "print(v1.b)\n",
    "v1.a = 100\n",
    "print(v.a)\n",
    "print(v1.a)"
   ],
   "metadata": {
    "collapsed": false,
    "pycharm": {
     "name": "#%%\n"
    }
   }
  },
  {
   "cell_type": "code",
   "execution_count": 25,
   "outputs": [
    {
     "data": {
      "text/plain": "[0, 2, 4, 6, 8]"
     },
     "execution_count": 25,
     "metadata": {},
     "output_type": "execute_result"
    }
   ],
   "source": [
    "# 高阶函数\n",
    "[*map(lambda x:x**2, range(10))]\n",
    "from functools import reduce\n",
    "reduce(lambda x,y:x+y, range(10))\n",
    "[*filter(lambda x:x%2==0, range(10))]"
   ],
   "metadata": {
    "collapsed": false,
    "pycharm": {
     "name": "#%%\n"
    }
   }
  },
  {
   "cell_type": "code",
   "execution_count": 6,
   "outputs": [],
   "source": [
    "# 进程和线程的区别：\n",
    "# 进程是对运行时程序的封装，是系统资源调度和分配的基本单位\n",
    "# 线程是进程的子任务，cpu调度和分配的基本单位，实现进程内并发\n",
    "# 一个进程可以包含多个线程，线程依赖进程存在，并共享进程内存\n",
    "\n",
    "# 什么是线程安全\n",
    "#     python哪些操作是线程安全的\n",
    "\n",
    "# 线程同步的方式\n",
    "# 了解线程同步的方式,如何保证线程安全\n",
    "#     互斥量(锁):通过互斥机制防止多个线程同时访问公共资源 (最常用的方式)\n",
    "#     信号量:控制同一时刻多个线程访问同一资源的线程数\n",
    "#     事件(信号):通过互相通知的方式保持多个线程同步\n",
    "\n",
    "# 进程间通信方式\n",
    "# 管道、匿名管道、有名管道(pipe)\n",
    "# 信号(Signal):比如用户在使用Ctrl+c产生SIGINT程序终止信号\n",
    "# 消息队列\n",
    "# 共享内存\n",
    "# 信号量\n",
    "# 套接字(socket): 最常用的方式，我们的web应用都是这种方式\n",
    "import threading\n",
    "lock = threading.Lock()\n",
    "n = [0]\n",
    "n1 = [0]\n",
    "def foo():\n",
    "    with lock:\n",
    "      n[0] = n[0]+1\n",
    "      n[0] = n[0]+1\n",
    "\n",
    "# 非线程安全可能出现错误\n",
    "def foo2():\n",
    "    n1[0] = n1[0]+1\n",
    "    n1[0] = n1[0]+1\n",
    "\n",
    "\n",
    "\n",
    "\n",
    "for _ in range(100):\n",
    "    threads = []\n",
    "    threads1 = []\n",
    "    for i in range(5000):\n",
    "        t = threading.Thread(target=foo)\n",
    "        threads.append(t)\n",
    "\n",
    "        t1 = threading.Thread(target=foo2)\n",
    "        threads1.append(t1)\n",
    "\n",
    "    for t in threads:\n",
    "        t.start()\n",
    "\n",
    "    for t in threads1:\n",
    "        t.start()\n",
    "\n",
    "    print(n, n1)"
   ],
   "metadata": {
    "collapsed": false,
    "pycharm": {
     "name": "#%%\n"
    }
   }
  },
  {
   "cell_type": "code",
   "execution_count": 7,
   "outputs": [
    {
     "name": "stdout",
     "output_type": "stream",
     "text": [
      "1625021222.529022\n"
     ]
    }
   ],
   "source": [
    "# 垃圾回收机制原理\n",
    "# 引用计数(缺点：循环引用无法解决 不解决此问题可能造成内存泄露)\n",
    "#     什么时候引用计数增加呢？            什么时候引用计数会减少呢？\n",
    "#     对象创建  a=1                    显示使用  del a\n",
    "#     对象被引用 b=a                   引用指向了别的对象 b = None\n",
    "#     对象作为参数传递 func(a)          离开了对象的作用域（比如函数执行结束）\n",
    "#     对象存储在容器中 l=[a]            从一个容器中移除对象或销毁容器\n",
    "# 注意：\n",
    "#     当ref为0时解释器回收  del操作符可以减少对象的引用数而不是删除\n",
    "#\n",
    "# 引入标记清除（解决循环引用问题）和分代回收（一般分为3代）解决引用计数的问题\n",
    "# 引用计数为主+标记清除和分代回收为辅\n"
   ],
   "metadata": {
    "collapsed": false,
    "pycharm": {
     "name": "#%%\n"
    }
   }
  },
  {
   "cell_type": "code",
   "execution_count": 10,
   "outputs": [
    {
     "name": "stdout",
     "output_type": "stream",
     "text": [
      "ok\n"
     ]
    }
   ],
   "source": [
    "import threading, time\n",
    "lock = threading.Lock()\n",
    "def foo():\n",
    "    with lock:\n",
    "      # n[0] = n[0]+1\n",
    "      # n[0] = n[0]+1\n",
    "        time.sleep(1)\n",
    "        print(time.time())\n",
    "for i in range(5):\n",
    "    t = threading.Thread(target=foo)\n",
    "    t.start()\n",
    "print(\"ok\")"
   ],
   "metadata": {
    "collapsed": false,
    "pycharm": {
     "name": "#%%\n"
    }
   }
  },
  {
   "cell_type": "code",
   "execution_count": 11,
   "outputs": [],
   "source": [
    "# tcp/udp/http\n",
    "# 1、浏览器输入一个url中间经历的过程\n",
    "#   - 中间涉及到那些过程\n",
    "#         dns查询/host文件-->tcp握手-->http请求-->反向代理nginx-->uwsgi/gunicorn-->web app响应-->tcp挥手\n",
    "#            获取到ip                  应用                      WSGI             web应用\n",
    "#   - 包含哪些协议\n",
    "#   - 每个协议都干了什么"
   ],
   "metadata": {
    "collapsed": false,
    "pycharm": {
     "name": "#%%\n"
    }
   }
  },
  {
   "cell_type": "code",
   "execution_count": null,
   "outputs": [],
   "source": [
    "# 数据库\n",
    "# 事务的隔离级别\n",
    "# 为了解决并发控制异常，定义了4种事务隔离级别\n",
    "#     读未提交：别的事务可以读取到未提交改变\n",
    "#     读已提交：只能读取已经提交的数据\n",
    "#     可重复度：同一个事务先后查询结果一样\n",
    "#     串行化：事务完全串行化执行，隔离级别最高，执行效率最低\n",
    "\n",
    "# 高并发情况下，写入数据库会有数据重复问题\n",
    "#   使用数据库的唯一索引\n",
    "#   使用队列异步写入\n",
    "#   使用redis的实现分布式锁\n",
    "\n",
    "# 什么是乐观锁,什么是悲观锁\n",
    "#   悲观锁是先获取锁在进行操作。 一锁二查三更新 select for update\n",
    "#   乐观锁先修改，更新的时候发现数据已经更新了就回滚（check and set）\n",
    "#         乐观锁一般使用版本号或者时间戳实现\n",
    "#   是需要根据相应速度、冲突频率、重试代价来判断使用哪一种\n",
    "\n",
    "# 引擎 InnoDB vs MyISAM\n",
    "# 两种引擎区别\n",
    "# MyIsam不支持事务，innodb支持事务\n",
    "# MyIsam不支持外键，innodb支持外键\n",
    "# MyIsam只支持表锁，innodb支持行锁和表锁\n",
    "# MyIsam支持全文索引\n",
    "\n",
    "# mysql索引原理及优化常见问题\n",
    "#     索引的原理、类型、结构\n",
    "#     创建索引的注意事项，使用原则\n",
    "#     如何排查和消除慢查询\n",
    "\n",
    "# 为什么需要索引？\n",
    "#     索引是数据表中一个或多个列进行排序的数据结构\n",
    "#     索引能够大幅提升检索速度\n",
    "#     创建、更新索引本身也会耗费空间和时间\n",
    "\n",
    "# 查找进化史\n",
    "# 线性查找：一个个找，实现简单；太慢\n",
    "# 二分查找：有序，简单；要求数据有序，插入特别慢。\n",
    "# HASH：查找快；占用空间；不太适合存储大规模数据\n",
    "# 二叉查找树：插入和查询速度都很快（log（n））；无法存储大规模数据，存在复杂度退化问题\n",
    "# 平衡树：解决bst退化问题，树是平衡的；节点非常多的时候，依然树高很高\n",
    "# 多路查找树：一个父亲多个孩子节点（度）；节点过多树高不会特别深\n",
    "# 多路平衡查找树 B-Tree（无法实现范围查找）：\n",
    "#     每个节点最多m(m>=2)个孩子，称为m阶或者度\n",
    "#     叶节点具有相同的深度\n",
    "#     节点中的数据key从左到右是递增的\n",
    "# B+Tree是B-Tree的变形\n",
    "#     mysql实际使用的是B+Tree作为索引的数据结构\n",
    "#     只在叶子节点带有指向记录的指针（为什么？可以增加树的度）\n",
    "#     叶子节点通过指针相连。为什么？实现范围查找\n",
    "\n",
    "# mysql索引类型\n",
    "#   普通索引（create index）\n",
    "#   唯一索引，索引列的值必须是唯一的（create unique index）\n",
    "#   主键索引（primary key）一个表只能有一个\n",
    "#   全文索引（fulltext index），innodb不支持\n",
    "\n",
    "# 什么时候创建索引\n",
    "# 建表的时候需要根据查询需求创建索引\n",
    "#     经常用作查询条件的字段(where条件之后跟的字段)\n",
    "#     经常用作表连接的字段\n",
    "#     经常出现在order by, group by之后的字段\n",
    "\n",
    "# 创建索引需要注意的\n",
    "#     非空字段NOT NULL, mysql很难对空值做优化查询\n",
    "#     区分度高,离散度大,作为索引的字段尽量不要有大量相同值\n",
    "#     索引的长度不要太长(比较耗费时间)\n",
    "\n",
    "# 索引什么时候失效\n",
    "#     记忆口诀:模糊匹配、类型隐转、最左匹配\n",
    "#     以%开头的like语句，模糊搜索\n",
    "#     出现隐式类型转换（在python这种动态类型语言中查询需要注意）\n",
    "#     没有满足最左前缀原则\n",
    "\n",
    "# sql语句\n",
    "# 连接为重点\n",
    "# 示例表\n",
    "# A                       B\n",
    "\n",
    "#     内连接（inner join）：两个表都存在匹配时，才会返回匹配行\n",
    "#         将左表和右表能够关联起来的数据连接后返回\n",
    "#         类似于求两个表的“交集”\n",
    "#         select * from A inner join B on a.id = b.id\n",
    "#     外连接（left/right join）：返回一个表的行，即使另一个没有匹配\n",
    "#     全连接（full join）：只要某一个表存在匹配就返回\n",
    "\n",
    "# 存储过程\n",
    "\n",
    "\n",
    "\n",
    "\n",
    "\n",
    "\n",
    "\n",
    "\n",
    "\n",
    "\n",
    "\n",
    "\n",
    "\n"
   ],
   "metadata": {
    "collapsed": false,
    "pycharm": {
     "name": "#%%\n"
    }
   }
  }
 ],
 "metadata": {
  "kernelspec": {
   "display_name": "Python 3",
   "language": "python",
   "name": "python3"
  },
  "language_info": {
   "codemirror_mode": {
    "name": "ipython",
    "version": 3
   },
   "file_extension": ".py",
   "mimetype": "text/x-python",
   "name": "python",
   "nbconvert_exporter": "python",
   "pygments_lexer": "ipython3",
   "version": "3.7.0"
  }
 },
 "nbformat": 4,
 "nbformat_minor": 2
}