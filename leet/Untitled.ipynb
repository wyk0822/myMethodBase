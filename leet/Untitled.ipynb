{
 "cells": [
  {
   "cell_type": "code",
   "execution_count": 2,
   "metadata": {},
   "outputs": [
    {
     "data": {
      "text/plain": [
       "False"
      ]
     },
     "execution_count": 2,
     "metadata": {},
     "output_type": "execute_result"
    }
   ],
   "source": [
    "from time import sleep\n",
    "True if len([]) > 0 else False"
   ]
  },
  {
   "cell_type": "code",
   "execution_count": 1,
   "metadata": {},
   "outputs": [],
   "source": [
    "from faker import Faker"
   ]
  },
  {
   "cell_type": "code",
   "execution_count": 28,
   "metadata": {},
   "outputs": [
    {
     "data": {
      "text/plain": [
       "'刘桂芝'"
      ]
     },
     "execution_count": 28,
     "metadata": {},
     "output_type": "execute_result"
    }
   ],
   "source": [
    "f = Faker(\"zh_CN\")\n",
    "f.name()"
   ]
  },
  {
   "cell_type": "code",
   "execution_count": 37,
   "metadata": {},
   "outputs": [
    {
     "name": "stdout",
     "output_type": "stream",
     "text": [
      "[2]\n"
     ]
    }
   ],
   "source": [
    "-3//2\n",
    "l = [1,2]\n",
    "del l[0]\n",
    "print(l)"
   ]
  },
  {
   "cell_type": "code",
   "execution_count": 61,
   "metadata": {},
   "outputs": [
    {
     "data": {
      "text/plain": [
       "[9, 8, 7, 6, 5, 4, 3, 2, 1, 0]"
      ]
     },
     "execution_count": 61,
     "metadata": {},
     "output_type": "execute_result"
    }
   ],
   "source": [
    "[*range(10)][::-1]"
   ]
  },
  {
   "cell_type": "code",
   "execution_count": 1,
   "metadata": {},
   "outputs": [
    {
     "name": "stdout",
     "output_type": "stream",
     "text": [
      "[90]\n",
      "[11]\n",
      "[11, 7]\n",
      "[11, 7, -6]\n",
      "[11, 7, -30]\n",
      "[11, 7, -7]\n",
      "[11, 7, -7, 3]\n",
      "[11, 7, -7, 3, -2]\n",
      "[11, 7, -7, 3, -2]\n"
     ]
    },
    {
     "data": {
      "text/plain": "12"
     },
     "execution_count": 1,
     "metadata": {},
     "output_type": "execute_result"
    }
   ],
   "source": [
    "# * / + -\n",
    "def clumsy(N):\n",
    "    op = 0\n",
    "    stack = [N]\n",
    "    for i in range(N - 1, 0, -1):\n",
    "\n",
    "        if op == 0:\n",
    "            stack.append(stack.pop() * i)\n",
    "        elif op == 1:\n",
    "            stack.append(int(stack.pop() / float(i)))\n",
    "#             stack.append(int(stack.pop() // i))\n",
    "        elif op == 2:\n",
    "            stack.append(i)\n",
    "        elif op == 3:\n",
    "            stack.append(-i)\n",
    "        op = (op + 1) % 4\n",
    "        print(stack)\n",
    "    return sum(stack)\n",
    "clumsy(10)"
   ]
  },
  {
   "cell_type": "code",
   "execution_count": 43,
   "metadata": {},
   "outputs": [
    {
     "data": {
      "text/plain": [
       "3"
      ]
     },
     "execution_count": 43,
     "metadata": {},
     "output_type": "execute_result"
    }
   ],
   "source": [
    "[90]\n",
    "[11]\n",
    "[11, 7]\n",
    "[11, 7, -6]\n",
    "[11, 7, -30]\n",
    "[11, 7, -8]\n",
    "[11, 7, -8, 3]\n",
    "[11, 7, -8, 3, -2]\n",
    "[11, 7, -8, 3, -2]"
   ]
  },
  {
   "cell_type": "code",
   "execution_count": 3,
   "outputs": [
    {
     "name": "stdout",
     "output_type": "stream",
     "text": [
      "3\n"
     ]
    }
   ],
   "source": [
    "\n",
    "def removeElement(nums, val: int) -> int:\n",
    "    index = 0\n",
    "    afterlst = []\n",
    "    for _ in range(len(nums)):\n",
    "        if  nums[0] == val:\n",
    "            pass\n",
    "        else:\n",
    "            afterlst.append(nums[0])\n",
    "        del nums[0]\n",
    "        index+=1\n",
    "    return len(afterlst)\n",
    "\n",
    "\n",
    "def removeElement2(nums, val: int) -> int:\n",
    "    if len(nums) == 0:\n",
    "        return 0\n",
    "    slow = 0\n",
    "    for quick in range(0, len(nums)):\n",
    "        if nums[quick] != val:\n",
    "            nums[slow] = nums[quick]\n",
    "            slow += 1\n",
    "    return slow\n",
    "print(removeElement2([1,2,3,2,1],2))"
   ],
   "metadata": {
    "collapsed": false,
    "pycharm": {
     "name": "#%%\n"
    }
   }
  },
  {
   "cell_type": "code",
   "execution_count": 10,
   "outputs": [
    {
     "name": "stdout",
     "output_type": "stream",
     "text": [
      "2318804529440 2318804529584 2318804529440\n",
      "{1: 'aaaa'} {1: [1, 2, 3]} {1: 'aaaa'}\n"
     ]
    }
   ],
   "source": [
    "# copy模块里面的copy方法实现。浅拷贝后，改变原始对象中为可变类型的元素的值，会同时影响拷贝对象；改变原始对象中为不可变类型的元素的值，不会响拷贝对象。\n",
    "a = {1:[1,2,3]}\n",
    "c = a   # 直接赋值\n",
    "b = a.copy()  # 浅拷贝\n",
    "print(id(a), id(b), id(c))\n",
    "a[1] = \"aaaa\"\n",
    "print(a, b,c)"
   ],
   "metadata": {
    "collapsed": false,
    "pycharm": {
     "name": "#%%\n"
    }
   }
  },
  {
   "cell_type": "code",
   "execution_count": 10,
   "outputs": [
    {
     "name": "stdout",
     "output_type": "stream",
     "text": [
      "1809814322120 1809814322120\n",
      "1809814322120 1809814321800\n"
     ]
    }
   ],
   "source": [
    "# 深拷贝\n",
    "#\n",
    "# copy模块里面的deepcopy方法实现。深拷贝，除了顶层拷贝，还对子元素也进行了拷贝。经过深拷贝后，原始对象和拷贝对象所有的可变元素地址都没有相同的了。\n",
    "print(id(a[1]), id(b[1]))\n",
    "import copy\n",
    "d = copy.deepcopy(a) # 深拷贝\n",
    "print(id(a[1]), id(d[1]))"
   ],
   "metadata": {
    "collapsed": false,
    "pycharm": {
     "name": "#%%\n"
    }
   }
  },
  {
   "cell_type": "code",
   "execution_count": 74,
   "outputs": [
    {
     "name": "stdout",
     "output_type": "stream",
     "text": [
      "this is fun1\n",
      "11\n",
      "222\n"
     ]
    }
   ],
   "source": [
    "# 闭包\n",
    "def fun():\n",
    "    a = 1\n",
    "    def fun1(num):\n",
    "        print(\"this is fun1\")\n",
    "        print(num + a)\n",
    "    return fun1\n",
    "\n",
    "var = fun()\n",
    "var(10)"
   ],
   "metadata": {
    "collapsed": false,
    "pycharm": {
     "name": "#%%\n"
    }
   }
  },
  {
   "cell_type": "code",
   "execution_count": 18,
   "outputs": [
    {
     "name": "stdout",
     "output_type": "stream",
     "text": [
      "装饰器函数\n",
      "被装饰函数。。\n"
     ]
    },
    {
     "ename": "ResponseError",
     "evalue": "DENIED Redis is running in protected mode because protected mode is enabled, no bind address was specified, no authentication password is requested to clients. In this mode connections are only accepted from the loopback interface. If you want to connect from external computers to Redis you may adopt one of the following solutions: 1) Just disable protected mode sending the command 'CONFIG SET protected-mode no' from the loopback interface by connecting to Redis from the same host the server is running, however MAKE SURE Redis is not publicly accessible from internet if you do so. Use CONFIG REWRITE to make this change permanent. 2) Alternatively you can just disable the protected mode by editing the Redis configuration file, and setting the protected mode option to 'no', and then restarting the server. 3) If you started the server manually just for testing, restart it with the '--protected-mode no' option. 4) Setup a bind address or an authentication password. NOTE: You only need to do one of the above things in order for the server to start accepting connections from the outside.",
     "output_type": "error",
     "traceback": [
      "\u001B[1;31m---------------------------------------------------------------------------\u001B[0m",
      "\u001B[1;31mResponseError\u001B[0m                             Traceback (most recent call last)",
      "\u001B[1;32m<ipython-input-18-c1fd49cfb9da>\u001B[0m in \u001B[0;36m<module>\u001B[1;34m()\u001B[0m\n\u001B[0;32m     14\u001B[0m \u001B[0mpool\u001B[0m \u001B[1;33m=\u001B[0m \u001B[0mredis\u001B[0m\u001B[1;33m.\u001B[0m\u001B[0mConnectionPool\u001B[0m\u001B[1;33m(\u001B[0m\u001B[0mhost\u001B[0m\u001B[1;33m=\u001B[0m\u001B[1;34m'192.168.109.128'\u001B[0m\u001B[1;33m,\u001B[0m \u001B[0mport\u001B[0m\u001B[1;33m=\u001B[0m\u001B[1;36m6379\u001B[0m\u001B[1;33m,\u001B[0m \u001B[0mdecode_responses\u001B[0m\u001B[1;33m=\u001B[0m\u001B[1;32mTrue\u001B[0m\u001B[1;33m)\u001B[0m\u001B[1;33m\u001B[0m\u001B[0m\n\u001B[0;32m     15\u001B[0m \u001B[0mr\u001B[0m \u001B[1;33m=\u001B[0m \u001B[0mredis\u001B[0m\u001B[1;33m.\u001B[0m\u001B[0mRedis\u001B[0m\u001B[1;33m(\u001B[0m\u001B[0mconnection_pool\u001B[0m\u001B[1;33m=\u001B[0m\u001B[0mpool\u001B[0m\u001B[1;33m)\u001B[0m\u001B[1;33m\u001B[0m\u001B[0m\n\u001B[1;32m---> 16\u001B[1;33m \u001B[0mr\u001B[0m\u001B[1;33m.\u001B[0m\u001B[0mset\u001B[0m\u001B[1;33m(\u001B[0m\u001B[1;34m\"a\"\u001B[0m\u001B[1;33m,\u001B[0m\u001B[1;34m\"11110\"\u001B[0m\u001B[1;33m,\u001B[0m \u001B[0mex\u001B[0m\u001B[1;33m=\u001B[0m\u001B[1;36m100\u001B[0m\u001B[1;33m)\u001B[0m\u001B[1;33m\u001B[0m\u001B[0m\n\u001B[0m\u001B[0;32m     17\u001B[0m \u001B[0mprint\u001B[0m\u001B[1;33m(\u001B[0m\u001B[0mr\u001B[0m\u001B[1;33m.\u001B[0m\u001B[0mget\u001B[0m\u001B[1;33m(\u001B[0m\u001B[1;34m\"a\"\u001B[0m\u001B[1;33m)\u001B[0m\u001B[1;33m)\u001B[0m\u001B[1;33m\u001B[0m\u001B[0m\n",
      "\u001B[1;32mE:\\anaconda\\lib\\site-packages\\redis\\client.py\u001B[0m in \u001B[0;36mset\u001B[1;34m(self, name, value, ex, px, nx, xx, keepttl)\u001B[0m\n\u001B[0;32m   1799\u001B[0m             \u001B[0mpieces\u001B[0m\u001B[1;33m.\u001B[0m\u001B[0mappend\u001B[0m\u001B[1;33m(\u001B[0m\u001B[1;34m'KEEPTTL'\u001B[0m\u001B[1;33m)\u001B[0m\u001B[1;33m\u001B[0m\u001B[0m\n\u001B[0;32m   1800\u001B[0m \u001B[1;33m\u001B[0m\u001B[0m\n\u001B[1;32m-> 1801\u001B[1;33m         \u001B[1;32mreturn\u001B[0m \u001B[0mself\u001B[0m\u001B[1;33m.\u001B[0m\u001B[0mexecute_command\u001B[0m\u001B[1;33m(\u001B[0m\u001B[1;34m'SET'\u001B[0m\u001B[1;33m,\u001B[0m \u001B[1;33m*\u001B[0m\u001B[0mpieces\u001B[0m\u001B[1;33m)\u001B[0m\u001B[1;33m\u001B[0m\u001B[0m\n\u001B[0m\u001B[0;32m   1802\u001B[0m \u001B[1;33m\u001B[0m\u001B[0m\n\u001B[0;32m   1803\u001B[0m     \u001B[1;32mdef\u001B[0m \u001B[0m__setitem__\u001B[0m\u001B[1;33m(\u001B[0m\u001B[0mself\u001B[0m\u001B[1;33m,\u001B[0m \u001B[0mname\u001B[0m\u001B[1;33m,\u001B[0m \u001B[0mvalue\u001B[0m\u001B[1;33m)\u001B[0m\u001B[1;33m:\u001B[0m\u001B[1;33m\u001B[0m\u001B[0m\n",
      "\u001B[1;32mE:\\anaconda\\lib\\site-packages\\redis\\client.py\u001B[0m in \u001B[0;36mexecute_command\u001B[1;34m(self, *args, **options)\u001B[0m\n\u001B[0;32m    899\u001B[0m         \u001B[1;32mtry\u001B[0m\u001B[1;33m:\u001B[0m\u001B[1;33m\u001B[0m\u001B[0m\n\u001B[0;32m    900\u001B[0m             \u001B[0mconn\u001B[0m\u001B[1;33m.\u001B[0m\u001B[0msend_command\u001B[0m\u001B[1;33m(\u001B[0m\u001B[1;33m*\u001B[0m\u001B[0margs\u001B[0m\u001B[1;33m)\u001B[0m\u001B[1;33m\u001B[0m\u001B[0m\n\u001B[1;32m--> 901\u001B[1;33m             \u001B[1;32mreturn\u001B[0m \u001B[0mself\u001B[0m\u001B[1;33m.\u001B[0m\u001B[0mparse_response\u001B[0m\u001B[1;33m(\u001B[0m\u001B[0mconn\u001B[0m\u001B[1;33m,\u001B[0m \u001B[0mcommand_name\u001B[0m\u001B[1;33m,\u001B[0m \u001B[1;33m**\u001B[0m\u001B[0moptions\u001B[0m\u001B[1;33m)\u001B[0m\u001B[1;33m\u001B[0m\u001B[0m\n\u001B[0m\u001B[0;32m    902\u001B[0m         \u001B[1;32mexcept\u001B[0m \u001B[1;33m(\u001B[0m\u001B[0mConnectionError\u001B[0m\u001B[1;33m,\u001B[0m \u001B[0mTimeoutError\u001B[0m\u001B[1;33m)\u001B[0m \u001B[1;32mas\u001B[0m \u001B[0me\u001B[0m\u001B[1;33m:\u001B[0m\u001B[1;33m\u001B[0m\u001B[0m\n\u001B[0;32m    903\u001B[0m             \u001B[0mconn\u001B[0m\u001B[1;33m.\u001B[0m\u001B[0mdisconnect\u001B[0m\u001B[1;33m(\u001B[0m\u001B[1;33m)\u001B[0m\u001B[1;33m\u001B[0m\u001B[0m\n",
      "\u001B[1;32mE:\\anaconda\\lib\\site-packages\\redis\\client.py\u001B[0m in \u001B[0;36mparse_response\u001B[1;34m(self, connection, command_name, **options)\u001B[0m\n\u001B[0;32m    913\u001B[0m         \u001B[1;34m\"Parses a response from the Redis server\"\u001B[0m\u001B[1;33m\u001B[0m\u001B[0m\n\u001B[0;32m    914\u001B[0m         \u001B[1;32mtry\u001B[0m\u001B[1;33m:\u001B[0m\u001B[1;33m\u001B[0m\u001B[0m\n\u001B[1;32m--> 915\u001B[1;33m             \u001B[0mresponse\u001B[0m \u001B[1;33m=\u001B[0m \u001B[0mconnection\u001B[0m\u001B[1;33m.\u001B[0m\u001B[0mread_response\u001B[0m\u001B[1;33m(\u001B[0m\u001B[1;33m)\u001B[0m\u001B[1;33m\u001B[0m\u001B[0m\n\u001B[0m\u001B[0;32m    916\u001B[0m         \u001B[1;32mexcept\u001B[0m \u001B[0mResponseError\u001B[0m\u001B[1;33m:\u001B[0m\u001B[1;33m\u001B[0m\u001B[0m\n\u001B[0;32m    917\u001B[0m             \u001B[1;32mif\u001B[0m \u001B[0mEMPTY_RESPONSE\u001B[0m \u001B[1;32min\u001B[0m \u001B[0moptions\u001B[0m\u001B[1;33m:\u001B[0m\u001B[1;33m\u001B[0m\u001B[0m\n",
      "\u001B[1;32mE:\\anaconda\\lib\\site-packages\\redis\\connection.py\u001B[0m in \u001B[0;36mread_response\u001B[1;34m(self)\u001B[0m\n\u001B[0;32m    754\u001B[0m \u001B[1;33m\u001B[0m\u001B[0m\n\u001B[0;32m    755\u001B[0m         \u001B[1;32mif\u001B[0m \u001B[0misinstance\u001B[0m\u001B[1;33m(\u001B[0m\u001B[0mresponse\u001B[0m\u001B[1;33m,\u001B[0m \u001B[0mResponseError\u001B[0m\u001B[1;33m)\u001B[0m\u001B[1;33m:\u001B[0m\u001B[1;33m\u001B[0m\u001B[0m\n\u001B[1;32m--> 756\u001B[1;33m             \u001B[1;32mraise\u001B[0m \u001B[0mresponse\u001B[0m\u001B[1;33m\u001B[0m\u001B[0m\n\u001B[0m\u001B[0;32m    757\u001B[0m         \u001B[1;32mreturn\u001B[0m \u001B[0mresponse\u001B[0m\u001B[1;33m\u001B[0m\u001B[0m\n\u001B[0;32m    758\u001B[0m \u001B[1;33m\u001B[0m\u001B[0m\n",
      "\u001B[1;31mResponseError\u001B[0m: DENIED Redis is running in protected mode because protected mode is enabled, no bind address was specified, no authentication password is requested to clients. In this mode connections are only accepted from the loopback interface. If you want to connect from external computers to Redis you may adopt one of the following solutions: 1) Just disable protected mode sending the command 'CONFIG SET protected-mode no' from the loopback interface by connecting to Redis from the same host the server is running, however MAKE SURE Redis is not publicly accessible from internet if you do so. Use CONFIG REWRITE to make this change permanent. 2) Alternatively you can just disable the protected mode by editing the Redis configuration file, and setting the protected mode option to 'no', and then restarting the server. 3) If you started the server manually just for testing, restart it with the '--protected-mode no' option. 4) Setup a bind address or an authentication password. NOTE: You only need to do one of the above things in order for the server to start accepting connections from the outside."
     ]
    }
   ],
   "source": [
    "def func1(func):     # func外部被装饰函数\n",
    "    def func2():\n",
    "        print(\"装饰器函数\")\n",
    "        return func()\n",
    "    return func2\n",
    "\n",
    "@func1\n",
    "def test():\n",
    "    print(\"被装饰函数。。\")\n",
    "\n",
    "test()\n",
    "\n",
    "import redis\n",
    "pool = redis.ConnectionPool(host='192.168.109.128', port=6379, decode_responses=True)\n",
    "r = redis.Redis(connection_pool=pool)\n",
    "r.set(\"a\",\"11110\", ex=100)\n",
    "print(r.get(\"a\"))"
   ],
   "metadata": {
    "collapsed": false,
    "pycharm": {
     "name": "#%%\n"
    }
   }
  },
  {
   "cell_type": "code",
   "execution_count": 22,
   "outputs": [
    {
     "name": "stdout",
     "output_type": "stream",
     "text": [
      "[9, 7, 6, 6, 5, 4, 4, 3, 3, 2, 2]\n"
     ]
    }
   ],
   "source": [
    "lst = [9,2,3,4,2,3,5,6,7,4,6]\n",
    "print(sorted(lst)[::-1])\n"
   ],
   "metadata": {
    "collapsed": false,
    "pycharm": {
     "name": "#%%\n"
    }
   }
  },
  {
   "cell_type": "code",
   "execution_count": 24,
   "outputs": [
    {
     "name": "stdout",
     "output_type": "stream",
     "text": [
      "5050\n"
     ]
    }
   ],
   "source": [
    "print(sum([*range(1,101)]))"
   ],
   "metadata": {
    "collapsed": false,
    "pycharm": {
     "name": "#%%\n"
    }
   }
  },
  {
   "cell_type": "code",
   "execution_count": 8,
   "outputs": [
    {
     "name": "stdout",
     "output_type": "stream",
     "text": [
      "0 1 2 3 4 5 6 7 8 9\n",
      "2\n"
     ]
    }
   ],
   "source": [
    "print(*range(0,10))\n",
    "global s\n",
    "s=1\n",
    "def ss():\n",
    "    global s\n",
    "    s+=1\n",
    "ss()\n",
    "print(s)"
   ],
   "metadata": {
    "collapsed": false,
    "pycharm": {
     "name": "#%%\n"
    }
   }
  },
  {
   "cell_type": "code",
   "execution_count": 35,
   "outputs": [
    {
     "name": "stdout",
     "output_type": "stream",
     "text": [
      "a\n",
      "(1, 1, 2)\n",
      "{'x1': ('1', '2'), 'x': {'3': '333'}}\n"
     ]
    }
   ],
   "source": [
    "def ss(a, *r, **x):\n",
    "    print(a)\n",
    "    print(r)\n",
    "    print(x)\n",
    "\n",
    "ss(\"a\",1,1,2,x1 = (\"1\",\"2\", ), x = {\"3\":\"333\"})"
   ],
   "metadata": {
    "collapsed": false,
    "pycharm": {
     "name": "#%%\n"
    }
   }
  },
  {
   "cell_type": "code",
   "execution_count": 16,
   "outputs": [
    {
     "name": "stdout",
     "output_type": "stream",
     "text": [
      "[865, 33, 23, 11, 4, 4, 3, 2]\n"
     ]
    }
   ],
   "source": [
    "data = [2,3,4,23,11,33,4,865]\n",
    "for i in range(len(data)-1):\n",
    "    for j in range(len(data)-1-i):\n",
    "        if data[j]<data[j+1]:\n",
    "            data[j], data[j+1] = data[j+1], data[j]\n",
    "print(data)"
   ],
   "metadata": {
    "collapsed": false,
    "pycharm": {
     "name": "#%%\n"
    }
   }
  },
  {
   "cell_type": "code",
   "execution_count": 8,
   "outputs": [
    {
     "name": "stdout",
     "output_type": "stream",
     "text": [
      "181\n"
     ]
    }
   ],
   "source": [
    "str_ = \"qase123iub56a2\"\n",
    "num = ''\n",
    "numlst = []\n",
    "for _ in str_:\n",
    "    if _ in [str(x) for x in range(0, 10)]:\n",
    "        num+=_\n",
    "    else:\n",
    "        if num!=\"\":\n",
    "            numlst.append(num)\n",
    "            num = ''\n",
    "\n",
    "if num!=\"\":\n",
    "    numlst.append(num)\n",
    "x = 0\n",
    "for _ in numlst:\n",
    "    x+=int(_)\n",
    "print(x)\n"
   ],
   "metadata": {
    "collapsed": false,
    "pycharm": {
     "name": "#%%\n"
    }
   }
  },
  {
   "cell_type": "code",
   "execution_count": 13,
   "outputs": [],
   "source": [
    "1^0\n",
    "2^1\n"
   ],
   "metadata": {
    "collapsed": false,
    "pycharm": {
     "name": "#%%\n"
    }
   }
  },
  {
   "cell_type": "code",
   "execution_count": 1,
   "outputs": [
    {
     "name": "stdout",
     "output_type": "stream",
     "text": [
      "['Untitled.ipynb']\n",
      "['Untitled-checkpoint.ipynb']\n"
     ]
    },
    {
     "name": "stderr",
     "output_type": "stream",
     "text": [
      "E:\\anaconda\\lib\\site-packages\\ipykernel\\parentpoller.py:116: UserWarning: Parent poll failed.  If the frontend dies,\n",
      "                the kernel may be left running.  Please let us know\n",
      "                about your system (bitness, Python, etc.) at\n",
      "                ipython-dev@scipy.org\n",
      "  ipython-dev@scipy.org\"\"\")\n"
     ]
    }
   ],
   "source": [
    "import os\n",
    "def file_name(file_dir):\n",
    "    for root, dirs, files in os.walk(file_dir):\n",
    "        # print(root)  # 当前目录路径\n",
    "        # print(dirs)  # 当前路径下所有子目录\n",
    "        print(files)  # 当前路径下所有非目录子文件\n",
    "file_name(\"./\")"
   ],
   "metadata": {
    "collapsed": false,
    "pycharm": {
     "name": "#%%\n"
    }
   }
  },
  {
   "cell_type": "code",
   "execution_count": 25,
   "outputs": [
    {
     "name": "stdout",
     "output_type": "stream",
     "text": [
      "2  1 0 0\n",
      "1 2 2 0 1\n",
      "2 1\n",
      "3 12 3 1 3\n",
      "4 2\n",
      "a 231 4 2 5\n",
      "6 6\n",
      "7 7\n",
      "w a 4 7 8\n",
      "9 9\n"
     ]
    },
    {
     "data": {
      "text/plain": "4"
     },
     "execution_count": 25,
     "metadata": {},
     "output_type": "execute_result"
    }
   ],
   "source": [
    "# 滑动窗口\n",
    "def lengthOfLongestSubstring(s: str) -> int:\n",
    "    if s == \"\":\n",
    "        return 0\n",
    "    else:\n",
    "        max_len = 0\n",
    "        win_start = 0\n",
    "        # 循环窗口末位置\n",
    "        for win_end in range(len(s)):\n",
    "            # 若当前字符不在窗口中,将窗口尾指针加1，也就是循环下一次 更新max_len\n",
    "            if s[win_end] not in s[win_start:win_end]:\n",
    "\n",
    "                max_len = max(max_len, win_end-win_start+1)\n",
    "\n",
    "\n",
    "                print(s[win_end], s[win_start:win_end], max_len, win_start, win_end)\n",
    "            # 若在窗口中则 s[win_start:win_end].index(s[win_end]) 返回的是s[win_end]字符的坐标\n",
    "            # , 将win_start指针指到s[win_end]在主字符串的下标\n",
    "            else:\n",
    "                win_start = win_start + s[win_start:win_end].index(s[win_end]) +1\n",
    "        return max_len\n",
    "lengthOfLongestSubstring(\"21231aaaww\")"
   ],
   "metadata": {
    "collapsed": false,
    "pycharm": {
     "name": "#%%\n"
    }
   }
  },
  {
   "cell_type": "code",
   "execution_count": 24,
   "outputs": [
    {
     "data": {
      "text/plain": "4"
     },
     "execution_count": 24,
     "metadata": {},
     "output_type": "execute_result"
    }
   ],
   "source": [
    "\"aaaav\".index(\"v\")"
   ],
   "metadata": {
    "collapsed": false,
    "pycharm": {
     "name": "#%%\n"
    }
   }
  },
  {
   "cell_type": "code",
   "execution_count": 67,
   "outputs": [
    {
     "name": "stdout",
     "output_type": "stream",
     "text": [
      "1534\n"
     ]
    }
   ],
   "source": [
    "def list_dictionary(d, n_tab=-1):\n",
    "    if isinstance(d, list):\n",
    "        index = 0\n",
    "        for i in d:\n",
    "            index += 1\n",
    "            list_dictionary(i, n_tab)\n",
    "    elif isinstance(d, dict):\n",
    "        n_tab += 1\n",
    "        for key, value in d.items():\n",
    "\n",
    "            list_dictionary(value, n_tab)\n",
    "    return d\n",
    "\n",
    "# 猴子摘桃\n",
    "# 递归实现\n",
    "def fun(target, i = 1):\n",
    "    x = 2 * target + 2\n",
    "    i +=1\n",
    "    print(i, x)\n",
    "    if i == 10:\n",
    "        return x\n",
    "    return fun(x, i)   # 一定要写return否则会返回None\n",
    "print(fun(1))\n",
    "# 循环实现\n",
    "def fun2(target):\n",
    "    z = target\n",
    "    for i in range(9):\n",
    "        z = 2*z+2\n",
    "    print(z)\n",
    "fun2(1)"
   ],
   "metadata": {
    "collapsed": false,
    "pycharm": {
     "name": "#%%\n"
    }
   }
  },
  {
   "cell_type": "code",
   "execution_count": 59,
   "outputs": [],
   "source": [
    "# 给定不同面额的硬币和一个总金额。写出函数来计算可以凑成总金额的硬币组合数。假设每一种面额的硬币有无限个。\n",
    "# 输入: amount = 5, coins = [1, 2, 5]\n",
    "# 输出: 4\n",
    "# 解释: 有四种方式可以凑成总金额:\n",
    "# 5=5\n",
    "# 5=2+2+1\n",
    "# 5=2+1+1+1\n",
    "# 5=1+1+1+1+1\n",
    "def change(amount: int, coins: list) -> int:\n",
    "    pass\n",
    "\n"
   ],
   "metadata": {
    "collapsed": false,
    "pycharm": {
     "name": "#%%\n"
    }
   }
  },
  {
   "cell_type": "code",
   "execution_count": 69,
   "outputs": [
    {
     "name": "stdout",
     "output_type": "stream",
     "text": [
      "<generator object diedai at 0x0000023A016A4C00>\n",
      "1\n",
      "2\n"
     ]
    }
   ],
   "source": [
    "def diedai():\n",
    "    yield 1\n",
    "    yield 2\n",
    "print(diedai())\n",
    "for i in diedai():\n",
    "    print(i)"
   ],
   "metadata": {
    "collapsed": false,
    "pycharm": {
     "name": "#%%\n"
    }
   }
  },
  {
   "cell_type": "code",
   "execution_count": 58,
   "outputs": [
    {
     "name": "stdout",
     "output_type": "stream",
     "text": [
      "110\n"
     ]
    }
   ],
   "source": [
    "def addBinary(a: str, b: str) -> str:\n",
    "    int_a = int(a, 2)\n",
    "    int_b = int(b, 2)\n",
    "    return bin(int_a+int_b)[2:]\n",
    "print(addBinary(\"1\", \"101\"))"
   ],
   "metadata": {
    "collapsed": false,
    "pycharm": {
     "name": "#%%\n"
    }
   }
  },
  {
   "cell_type": "code",
   "execution_count": 70,
   "outputs": [
    {
     "name": "stdout",
     "output_type": "stream",
     "text": [
      "decorate called\n",
      "fx called\n"
     ]
    }
   ],
   "source": [
    "from functools import wraps\n",
    "def My_decorate(f):\n",
    "    @wraps(f)\n",
    "    def fn(*args,**kwargs):\n",
    "        print('decorate called')\n",
    "        return f(*args,**kwargs)\n",
    "    return fn\n",
    "@My_decorate\n",
    "def fx():\n",
    "    print('fx called')\n",
    "fx()"
   ],
   "metadata": {
    "collapsed": false,
    "pycharm": {
     "name": "#%%\n"
    }
   }
  },
  {
   "cell_type": "code",
   "execution_count": 7,
   "outputs": [
    {
     "name": "stdout",
     "output_type": "stream",
     "text": [
      "<class 'range'>\n",
      "hello\n",
      "hello2\n"
     ]
    }
   ],
   "source": [
    "def simple_gen():\n",
    "    yield \"hello\"\n",
    "    yield \"hello2\"\n",
    "s = simple_gen()\n",
    "print(next(s))\n",
    "print(next(s))"
   ],
   "metadata": {
    "collapsed": false,
    "pycharm": {
     "name": "#%%\n"
    }
   }
  },
  {
   "cell_type": "code",
   "execution_count": 3,
   "outputs": [
    {
     "name": "stdout",
     "output_type": "stream",
     "text": [
      "0\n"
     ]
    }
   ],
   "source": [
    "import datetime\n",
    "print(datetime.datetime.now().weekday())"
   ],
   "metadata": {
    "collapsed": false,
    "pycharm": {
     "name": "#%%\n"
    }
   }
  },
  {
   "cell_type": "code",
   "execution_count": null,
   "outputs": [],
   "source": [
    "import os\n",
    "from time import sleep\n",
    "def _next_monday():\n",
    "    increase_days_to_sunday =6 - datetime.datetime.now().weekday()\n",
    "    date = lambda x: datetime.datetime.now() + datetime.timedelta(days=x)\n",
    "    os.system(f'date {date(increase_days_to_sunday).strftime(\"%Y-%m-%d\")}')\n",
    "    sleep(1)\n",
    "    os.system(f'date {date(1).strftime(\"%Y-%m-%d\")}')\n",
    "_next_monday()"
   ],
   "metadata": {
    "collapsed": false,
    "pycharm": {
     "name": "#%%\n",
     "is_executing": true
    }
   }
  },
  {
   "cell_type": "code",
   "execution_count": 1,
   "outputs": [
    {
     "name": "stdout",
     "output_type": "stream",
     "text": [
      "1624935807.3249779\n"
     ]
    }
   ],
   "source": [
    "import time\n",
    "t1 = time.time()\n",
    "print(t1)"
   ],
   "metadata": {
    "collapsed": false,
    "pycharm": {
     "name": "#%%\n"
    }
   }
  },
  {
   "cell_type": "code",
   "execution_count": null,
   "outputs": [],
   "source": [
    "# Definition for singly-linked list.\n",
    "class ListNode:\n",
    "    def __init__(self, x):\n",
    "        self.val = x\n",
    "        self.next = None\n",
    "\n",
    "class Solution:\n",
    "    def reverseList(self, head: ListNode) -> ListNode:\n",
    "        pre = None\n",
    "        cur = head\n",
    "        while cur:\n",
    "            nextnode = cur.next\n",
    "            cur.next = pre\n",
    "            pre = cur\n",
    "            cur = nextnode\n",
    "        return pre\n",
    "\n",
    "\n",
    "\n"
   ],
   "metadata": {
    "collapsed": false,
    "pycharm": {
     "name": "#%%\n"
    }
   }
  },
  {
   "cell_type": "code",
   "execution_count": 10,
   "outputs": [
    {
     "name": "stdout",
     "output_type": "stream",
     "text": [
      "<class '__main__.Base'>\n",
      "<class '__main__.Child'>\n",
      "hello_\n"
     ]
    }
   ],
   "source": [
    "class Base():\n",
    "    pass\n",
    "base = Base()\n",
    "print(Base)\n",
    "Somechild = type(\"Child\", (Base,), {}) # 生成一个新的类\n",
    "print(Somechild)\n",
    "\n",
    "class ChildWithMethod(Base):\n",
    "    bar = True\n",
    "\n",
    "    def hello(self):\n",
    "        print(\"hello\")\n",
    "\n",
    "# 等价定义\n",
    "def hello(self):\n",
    "    print(\"hello_\")\n",
    "ChildWithMethod2 = type('ChildWithMethod2', (Base,), {'bar':True, 'hello':hello})\n",
    "\n",
    "c2 = ChildWithMethod2()\n",
    "c2.hello()"
   ],
   "metadata": {
    "collapsed": false,
    "pycharm": {
     "name": "#%%\n"
    }
   }
  },
  {
   "cell_type": "code",
   "execution_count": 11,
   "outputs": [
    {
     "data": {
      "text/plain": "<__main__.CatToy at 0x1cb8d513128>"
     },
     "execution_count": 11,
     "metadata": {},
     "output_type": "execute_result"
    }
   ],
   "source": [
    "# 一个工厂方法的例子\n",
    "class DogToy():\n",
    "    def speak(self):\n",
    "        print(\"wang wang\")\n",
    "class CatToy():\n",
    "    def speak(self):\n",
    "        print(\"miao miao\")\n",
    "def toy_factory(toy_type):\n",
    "    if toy_type == 'dog':\n",
    "        return DogToy()\n",
    "    elif toy_type == 'cat':\n",
    "        return CatToy()\n",
    "toy_factory(\"cat\")\n"
   ],
   "metadata": {
    "collapsed": false,
    "pycharm": {
     "name": "#%%\n"
    }
   }
  },
  {
   "cell_type": "code",
   "execution_count": 12,
   "outputs": [
    {
     "name": "stdout",
     "output_type": "stream",
     "text": [
      "1973760934632 1973760934632\n"
     ]
    }
   ],
   "source": [
    "# 单例模式：一个类创建出来的对象都是同一个\n",
    "# python 的模块其实就是一个单例，只会导入一次\n",
    "class Singleton():\n",
    "    def __new__(cls, *args, **kwargs):\n",
    "        if not hasattr(cls, '_instance'):\n",
    "            _instance = super().__new__(cls, *args, **kwargs)\n",
    "            cls._instance = _instance\n",
    "        return cls._instance\n",
    "\n",
    "class MyCls(Singleton):\n",
    "    pass\n",
    "\n",
    "c1 = MyCls()\n",
    "c2 = MyCls()\n",
    "print(id(c1), id(c2))"
   ],
   "metadata": {
    "collapsed": false,
    "pycharm": {
     "name": "#%%\n"
    }
   }
  },
  {
   "cell_type": "code",
   "execution_count": null,
   "outputs": [],
   "source": [],
   "metadata": {
    "collapsed": false,
    "pycharm": {
     "name": "#%%\n"
    }
   }
  }
 ],
 "metadata": {
  "kernelspec": {
   "display_name": "Python 3",
   "language": "python",
   "name": "python3"
  },
  "language_info": {
   "codemirror_mode": {
    "name": "ipython",
    "version": 3
   },
   "file_extension": ".py",
   "mimetype": "text/x-python",
   "name": "python",
   "nbconvert_exporter": "python",
   "pygments_lexer": "ipython3",
   "version": "3.7.0"
  }
 },
 "nbformat": 4,
 "nbformat_minor": 2
}